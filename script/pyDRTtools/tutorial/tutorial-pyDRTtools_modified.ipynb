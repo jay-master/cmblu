{
 "cells": [
  {
   "cell_type": "markdown",
   "id": "0e9dd800",
   "metadata": {},
   "source": [
    "## Import necessary packages "
   ]
  },
  {
   "cell_type": "code",
   "execution_count": 65,
   "id": "b08da209",
   "metadata": {},
   "outputs": [],
   "source": [
    "# Python modules \n",
    "import numpy as np\n",
    "import matplotlib\n",
    "import matplotlib.pyplot as plt\n",
    "matplotlib.rcParams.update(matplotlib.rcParamsDefault)\n",
    "import pandas as pd\n",
    "import importlib\n",
    "from numpy import loadtxt\n",
    "from matplotlib import gridspec # for the contour plots\n",
    "from cvxopt import matrix, solvers\n",
    "from tkinter.filedialog import askopenfilename\n",
    "\n",
    "# pyDRTtools' modules\n",
    "import pyDRTtools\n",
    "import pyDRTtools.basics as basics # pyDRTtools functions\n",
    "import pyDRTtools.GUI as UI"
   ]
  },
  {
   "cell_type": "code",
   "execution_count": 66,
   "id": "7862188e",
   "metadata": {},
   "outputs": [],
   "source": [
    "## for nice plot\n",
    "# options for the plots\n",
    "plt.rc('text', usetex=True)\n",
    "plt.rc('font', family='serif', size=15)\n",
    "plt.rc('xtick', labelsize=15)\n",
    "plt.rc('ytick', labelsize=15)\n",
    "%matplotlib inline"
   ]
  },
  {
   "cell_type": "markdown",
   "id": "48c53440",
   "metadata": {},
   "source": [
    "### 1. Analysis of a single EIS spectrum generated with the Cole-Cole model"
   ]
  },
  {
   "cell_type": "markdown",
   "id": "a28b8c02",
   "metadata": {},
   "source": [
    "#### 1.1 Load the data"
   ]
  },
  {
   "cell_type": "code",
   "execution_count": 67,
   "id": "3b94b7d2",
   "metadata": {},
   "outputs": [
    {
     "name": "stdout",
     "output_type": "stream",
     "text": [
      "64\n"
     ]
    }
   ],
   "source": [
    "file_path = askopenfilename(title=\"Select CSV files\", filetypes=[(\"CSV files\", \"*.csv\")])\n",
    "df = pd.read_csv(file_path)\n",
    "N_freqs = df.shape[0]\n",
    "print(N_freqs)\n",
    "freq_vec = np.flip(df['Frequency (Hz)'].values)\n",
    "Z_exp = np.flip(df['Zre (ohms)'].values + 1j*df['Zim (ohms)'].values)\n",
    "# freq_vec = np.flip(df['Freq'].values)\n",
    "# Z_exp = np.flip(df['Real'].values + 1j*df['Imag'].values)"
   ]
  },
  {
   "cell_type": "markdown",
   "id": "58d70464",
   "metadata": {},
   "source": [
    "#### 1.2 Define the range of timescales"
   ]
  },
  {
   "cell_type": "code",
   "execution_count": 68,
   "id": "9b598cd0",
   "metadata": {},
   "outputs": [],
   "source": [
    "# N_taus = 64\n",
    "# log_tau_min = -6  \n",
    "# log_tau_max = 2\n",
    "N_taus = N_freqs\n",
    "log_tau_min = -4  \n",
    "log_tau_max = 4   \n",
    "tau_vec = np.logspace(log_tau_min, log_tau_max, num = N_taus, endpoint=True)\n",
    "log_tau_vec = np.log(tau_vec)"
   ]
  },
  {
   "cell_type": "markdown",
   "id": "5bdbfb85",
   "metadata": {},
   "source": [
    "#### 1.3 Define the discretization matrices"
   ]
  },
  {
   "cell_type": "code",
   "execution_count": 82,
   "id": "db8322ba",
   "metadata": {},
   "outputs": [],
   "source": [
    "shape_control = 'FWHM Coefficient'\n",
    "coeff = 0.1\n",
    "# coeff = 0.1 # to check difference\n",
    "# order of the derivative for the differentiation matrix M ('1st', '2nd')\n",
    "# rbf_type = 'Piecewise Linear'\n",
    "rbf_type = 'Gaussian'\n",
    "# rbf_type = 'C0 Matern'\n",
    "# rbf_type = 'C2 Matern'\n",
    "# rbf_type = 'C4 Matern'\n",
    "# rbf_type = 'C6 Matern'\n",
    "# rbf_type = 'Inverse Quadratic'\n"
   ]
  },
  {
   "cell_type": "code",
   "execution_count": 83,
   "id": "f0adb93e",
   "metadata": {},
   "outputs": [],
   "source": [
    "cv_type = 'GCV'\n",
    "# cv_type = 'mGCV'\n",
    "# cv_type = 'rGCV'\n",
    "# cv_type = 'LC'\n",
    "# cv_type = 'kf'\n",
    "# cv_type = 're-im'"
   ]
  },
  {
   "cell_type": "markdown",
   "id": "62cebb13",
   "metadata": {},
   "source": [
    "#### 1.4 Compute the discretization matrices"
   ]
  },
  {
   "cell_type": "code",
   "execution_count": 84,
   "id": "a818a538",
   "metadata": {},
   "outputs": [
    {
     "name": "stdout",
     "output_type": "stream",
     "text": [
      "5346\n",
      "5346\n",
      "10692\n"
     ]
    }
   ],
   "source": [
    "# epsilon parameter\n",
    "epsilon  = basics.compute_epsilon(freq_vec, coeff, rbf_type, shape_control)\n",
    "\n",
    "# differentiation matrix for the real part of the impedance\n",
    "# this includes the contributions of an Ohmic resistance, R_inf, and an inductance, L_0\n",
    "A_re = basics.assemble_A_re(freq_vec, tau_vec, epsilon, rbf_type)\n",
    "\n",
    "A_re_R_inf = np.ones((N_freqs, 1))\n",
    "A_re_L_0 = np.zeros((N_freqs, 1))\n",
    "A_re = np.hstack(( A_re_R_inf, A_re_L_0, A_re))\n",
    "print(A_re.size)\n",
    "\n",
    "# differentiation matrix for the imaginary part of the impedance\n",
    "A_im = basics.assemble_A_im(freq_vec, tau_vec, epsilon, rbf_type)\n",
    "\n",
    "#assemble_A_im(freq_vec, tau_vec, epsilon, 'Piecewise Linear', flag1='simple', flag2='impedance')\n",
    "\n",
    "A_im_R_inf = np.zeros((N_freqs, 1))\n",
    "A_im_L_0 = 2*np.pi*freq_vec.reshape((N_freqs, 1))\n",
    "A_im = np.hstack(( A_im_R_inf, A_im_L_0, A_im))\n",
    "print(A_im.size)\n",
    "\n",
    "# complete discretization matrix\n",
    "A = np.vstack((A_re, A_im))\n",
    "print(A.size)"
   ]
  },
  {
   "cell_type": "markdown",
   "id": "24da5bf1",
   "metadata": {},
   "source": [
    "#### 1.5 Define the differentiation matrix\n"
   ]
  },
  {
   "cell_type": "code",
   "execution_count": null,
   "id": "aac33466",
   "metadata": {},
   "outputs": [
    {
     "name": "stdout",
     "output_type": "stream",
     "text": [
      "4356\n",
      "[[0. 0. 0. ... 0. 0. 0.]\n",
      " [0. 0. 0. ... 0. 0. 0.]\n",
      " [0. 0. 0. ... 0. 0. 0.]\n",
      " ...\n",
      " [0. 0. 0. ... 0. 0. 0.]\n",
      " [0. 0. 0. ... 0. 0. 0.]\n",
      " [0. 0. 0. ... 0. 0. 0.]]\n"
     ]
    }
   ],
   "source": [
    "# second-order differentiation matrix for ridge regression (RR) (or regularization matrix)\n",
    "M2 = np.zeros((N_taus+2, N_taus+2))\n",
    "print(M2.size)\n",
    "print(M2)\n",
    "M2[2:,2:] = basics.assemble_M_2(tau_vec, epsilon, rbf_type)"
   ]
  },
  {
   "cell_type": "markdown",
   "id": "52397d29",
   "metadata": {},
   "source": [
    "#### 1.6 Select the regularization parameter"
   ]
  },
  {
   "cell_type": "code",
   "execution_count": 86,
   "id": "94811ea5",
   "metadata": {},
   "outputs": [
    {
     "name": "stdout",
     "output_type": "stream",
     "text": [
      "Optimization terminated successfully    (Exit mode 0)\n",
      "            Current function value: 0.3167462179066913\n",
      "            Iterations: 10\n",
      "            Function evaluations: 37\n",
      "            Gradient evaluations: 10\n",
      "GCV\n"
     ]
    }
   ],
   "source": [
    "# regularization parameter obtained with generalized cross-validation (GCV)\n",
    "# lambda_value = basics.optimal_lambda(A_re, A_im, np.real(Z_exp), np.imag(Z_exp), M2, -3, 'GCV')\n",
    "lambda_value = basics.optimal_lambda(A_re, A_im, np.real(Z_exp), np.imag(Z_exp), M2, -3, freq_vec, False, cv_type)"
   ]
  },
  {
   "cell_type": "markdown",
   "id": "844d6b15",
   "metadata": {},
   "source": [
    "#### 1.7 Deconvolve the DRT from a single EIS spectrum"
   ]
  },
  {
   "cell_type": "code",
   "execution_count": 87,
   "id": "bb945e09",
   "metadata": {},
   "outputs": [
    {
     "name": "stdout",
     "output_type": "stream",
     "text": [
      "Shape of G: (83, 83)\n",
      "Shape of h: (83, 1)\n",
      "Rank of A: 28\n",
      "Rank of G: 83\n",
      "Rank of H_combined: 9\n"
     ]
    },
    {
     "ename": "TypeError",
     "evalue": "'G' must be a 'd' matrix of size (83, 66)",
     "output_type": "error",
     "traceback": [
      "\u001b[1;31m---------------------------------------------------------------------------\u001b[0m",
      "\u001b[1;31mTypeError\u001b[0m                                 Traceback (most recent call last)",
      "\u001b[1;32m~\\AppData\\Local\\Temp\\ipykernel_3500\\2406427480.py\u001b[0m in \u001b[0;36m<module>\u001b[1;34m\u001b[0m\n\u001b[0;32m     16\u001b[0m \u001b[0mprint\u001b[0m\u001b[1;33m(\u001b[0m\u001b[1;34m\"Rank of H_combined:\"\u001b[0m\u001b[1;33m,\u001b[0m \u001b[0mnp\u001b[0m\u001b[1;33m.\u001b[0m\u001b[0mlinalg\u001b[0m\u001b[1;33m.\u001b[0m\u001b[0mmatrix_rank\u001b[0m\u001b[1;33m(\u001b[0m\u001b[0mH_combined\u001b[0m\u001b[1;33m)\u001b[0m\u001b[1;33m)\u001b[0m\u001b[1;33m\u001b[0m\u001b[1;33m\u001b[0m\u001b[0m\n\u001b[0;32m     17\u001b[0m \u001b[1;33m\u001b[0m\u001b[0m\n\u001b[1;32m---> 18\u001b[1;33m \u001b[0msol\u001b[0m \u001b[1;33m=\u001b[0m \u001b[0msolvers\u001b[0m\u001b[1;33m.\u001b[0m\u001b[0mqp\u001b[0m\u001b[1;33m(\u001b[0m\u001b[0mmatrix\u001b[0m\u001b[1;33m(\u001b[0m\u001b[0mH_combined\u001b[0m\u001b[1;33m)\u001b[0m\u001b[1;33m,\u001b[0m \u001b[0mmatrix\u001b[0m\u001b[1;33m(\u001b[0m\u001b[0mc_combined\u001b[0m\u001b[1;33m)\u001b[0m\u001b[1;33m,\u001b[0m\u001b[0mG\u001b[0m\u001b[1;33m,\u001b[0m\u001b[0mh\u001b[0m\u001b[1;33m)\u001b[0m\u001b[1;33m\u001b[0m\u001b[1;33m\u001b[0m\u001b[0m\n\u001b[0m\u001b[0;32m     19\u001b[0m \u001b[1;31m## deconvolved DRT\u001b[0m\u001b[1;33m\u001b[0m\u001b[1;33m\u001b[0m\u001b[0m\n\u001b[0;32m     20\u001b[0m \u001b[0mx\u001b[0m \u001b[1;33m=\u001b[0m \u001b[0mnp\u001b[0m\u001b[1;33m.\u001b[0m\u001b[0marray\u001b[0m\u001b[1;33m(\u001b[0m\u001b[0msol\u001b[0m\u001b[1;33m[\u001b[0m\u001b[1;34m'x'\u001b[0m\u001b[1;33m]\u001b[0m\u001b[1;33m)\u001b[0m\u001b[1;33m.\u001b[0m\u001b[0mflatten\u001b[0m\u001b[1;33m(\u001b[0m\u001b[1;33m)\u001b[0m\u001b[1;33m\u001b[0m\u001b[1;33m\u001b[0m\u001b[0m\n",
      "\u001b[1;32mc:\\Users\\Jaehyun\\anaconda3\\envs\\cmblu\\lib\\site-packages\\cvxopt\\coneprog.py\u001b[0m in \u001b[0;36mqp\u001b[1;34m(P, q, G, h, A, b, solver, kktsolver, initvals, **kwargs)\u001b[0m\n\u001b[0;32m   4483\u001b[0m             'residual as dual infeasibility certificate': dinfres}\n\u001b[0;32m   4484\u001b[0m \u001b[1;33m\u001b[0m\u001b[0m\n\u001b[1;32m-> 4485\u001b[1;33m     \u001b[1;32mreturn\u001b[0m \u001b[0mconeqp\u001b[0m\u001b[1;33m(\u001b[0m\u001b[0mP\u001b[0m\u001b[1;33m,\u001b[0m \u001b[0mq\u001b[0m\u001b[1;33m,\u001b[0m \u001b[0mG\u001b[0m\u001b[1;33m,\u001b[0m \u001b[0mh\u001b[0m\u001b[1;33m,\u001b[0m \u001b[1;32mNone\u001b[0m\u001b[1;33m,\u001b[0m \u001b[0mA\u001b[0m\u001b[1;33m,\u001b[0m  \u001b[0mb\u001b[0m\u001b[1;33m,\u001b[0m \u001b[0minitvals\u001b[0m\u001b[1;33m,\u001b[0m \u001b[0mkktsolver\u001b[0m \u001b[1;33m=\u001b[0m \u001b[0mkktsolver\u001b[0m\u001b[1;33m,\u001b[0m \u001b[0moptions\u001b[0m \u001b[1;33m=\u001b[0m \u001b[0moptions\u001b[0m\u001b[1;33m)\u001b[0m\u001b[1;33m\u001b[0m\u001b[1;33m\u001b[0m\u001b[0m\n\u001b[0m",
      "\u001b[1;32mc:\\Users\\Jaehyun\\anaconda3\\envs\\cmblu\\lib\\site-packages\\cvxopt\\coneprog.py\u001b[0m in \u001b[0;36mconeqp\u001b[1;34m(P, q, G, h, dims, A, b, initvals, kktsolver, xnewcopy, xdot, xaxpy, xscal, ynewcopy, ydot, yaxpy, yscal, **kwargs)\u001b[0m\n\u001b[0;32m   1892\u001b[0m     \u001b[1;32mif\u001b[0m \u001b[0mmatrixG\u001b[0m\u001b[1;33m:\u001b[0m\u001b[1;33m\u001b[0m\u001b[1;33m\u001b[0m\u001b[0m\n\u001b[0;32m   1893\u001b[0m         \u001b[1;32mif\u001b[0m \u001b[0mG\u001b[0m\u001b[1;33m.\u001b[0m\u001b[0mtypecode\u001b[0m \u001b[1;33m!=\u001b[0m \u001b[1;34m'd'\u001b[0m \u001b[1;32mor\u001b[0m \u001b[0mG\u001b[0m\u001b[1;33m.\u001b[0m\u001b[0msize\u001b[0m \u001b[1;33m!=\u001b[0m \u001b[1;33m(\u001b[0m\u001b[0mcdim\u001b[0m\u001b[1;33m,\u001b[0m \u001b[0mq\u001b[0m\u001b[1;33m.\u001b[0m\u001b[0msize\u001b[0m\u001b[1;33m[\u001b[0m\u001b[1;36m0\u001b[0m\u001b[1;33m]\u001b[0m\u001b[1;33m)\u001b[0m\u001b[1;33m:\u001b[0m\u001b[1;33m\u001b[0m\u001b[1;33m\u001b[0m\u001b[0m\n\u001b[1;32m-> 1894\u001b[1;33m             raise TypeError(\"'G' must be a 'd' matrix of size (%d, %d)\"\\\n\u001b[0m\u001b[0;32m   1895\u001b[0m                 %(cdim, q.size[0]))\n\u001b[0;32m   1896\u001b[0m         \u001b[1;32mdef\u001b[0m \u001b[0mfG\u001b[0m\u001b[1;33m(\u001b[0m\u001b[0mx\u001b[0m\u001b[1;33m,\u001b[0m \u001b[0my\u001b[0m\u001b[1;33m,\u001b[0m \u001b[0mtrans\u001b[0m \u001b[1;33m=\u001b[0m \u001b[1;34m'N'\u001b[0m\u001b[1;33m,\u001b[0m \u001b[0malpha\u001b[0m \u001b[1;33m=\u001b[0m \u001b[1;36m1.0\u001b[0m\u001b[1;33m,\u001b[0m \u001b[0mbeta\u001b[0m \u001b[1;33m=\u001b[0m \u001b[1;36m0.0\u001b[0m\u001b[1;33m)\u001b[0m\u001b[1;33m:\u001b[0m\u001b[1;33m\u001b[0m\u001b[1;33m\u001b[0m\u001b[0m\n",
      "\u001b[1;31mTypeError\u001b[0m: 'G' must be a 'd' matrix of size (83, 66)"
     ]
    }
   ],
   "source": [
    "# we recover the DRT as a quadratic problem using cvxplot\n",
    "lb = np.zeros([N_taus+2])\n",
    "bound_mat = np.eye(lb.shape[0])\n",
    "\n",
    "H_combined, c_combined = basics.quad_format_combined(A_re, A_im, np.real(Z_exp), np.imag(Z_exp), M2, lambda_value)\n",
    "\n",
    "# set bound constraint\n",
    "G = matrix(-np.identity(Z_exp.imag.shape[0]+2))\n",
    "h = matrix(np.zeros(Z_exp.imag.shape[0]+2))\n",
    "\n",
    "print(\"Shape of G:\", G.size)\n",
    "print(\"Shape of h:\", h.size)\n",
    "\n",
    "print(\"Rank of A:\", np.linalg.matrix_rank(A))\n",
    "print(\"Rank of G:\", np.linalg.matrix_rank(G))\n",
    "print(\"Rank of H_combined:\", np.linalg.matrix_rank(H_combined))\n",
    "\n",
    "sol = solvers.qp(matrix(H_combined), matrix(c_combined),G,h)\n",
    "## deconvolved DRT\n",
    "x = np.array(sol['x']).flatten()\n",
    "\n",
    "R_inf_DRT, L_0_DRT = x[0:2]\n",
    "gamma_DRT = x[2:]\n",
    "\n",
    "## plot the recovered DRT\n",
    "\n",
    "fig = plt.gcf()\n",
    "plt.semilogx(tau_vec, gamma_DRT, linewidth=4, color='black', label='DRT') \n",
    "# plt.axis([1E-4, 1E3, 0, 20])\n",
    "plt.legend(frameon=False, fontsize = 15, loc='best')\n",
    "plt.xlabel(r'$\\tau/\\rm s$', fontsize = 20)\n",
    "plt.ylabel(r'$\\gamma/\\Omega$', fontsize = 20)\n",
    "fig.set_size_inches(6.472, 4)\n",
    "\n",
    "plt.show()"
   ]
  },
  {
   "cell_type": "markdown",
   "id": "a6fe08cd",
   "metadata": {},
   "source": [
    "#### 1.8 Recover the impedance"
   ]
  },
  {
   "cell_type": "code",
   "execution_count": null,
   "id": "2c5272ff",
   "metadata": {},
   "outputs": [],
   "source": [
    "# the impedance is recovered as a matrix product\n",
    "Z_DRT = A@x\n",
    "Z_DRT = Z_DRT[0:N_freqs] + 1j*Z_DRT[N_freqs:]"
   ]
  },
  {
   "cell_type": "markdown",
   "id": "2cc33fca",
   "metadata": {},
   "source": [
    "#### 1.9 Nyquist plots"
   ]
  },
  {
   "cell_type": "code",
   "execution_count": null,
   "id": "3d6a1334",
   "metadata": {},
   "outputs": [
    {
     "data": {
      "image/png": "[encoded data removed]",
      "text/plain": [
       "<Figure size 647.2x400 with 1 Axes>"
      ]
     },
     "metadata": {},
     "output_type": "display_data"
    }
   ],
   "source": [
    "# Nyquist plots of the exact, experimental, and recovered DRTs\n",
    "plt.plot(np.real(Z_DRT), -np.imag(Z_DRT), linewidth=4, color='black', label='RR')\n",
    "plt.plot(np.real(Z_exp), -np.imag(Z_exp), 'o', markersize=7, color='red', label='exp')\n",
    "plt.legend(frameon=False, fontsize = 15)\n",
    "plt.axis('scaled')\n",
    "# plt.xticks(range(0, 90, 20))\n",
    "# plt.yticks(range(-40, 60, 20))\n",
    "plt.gca().set_aspect('equal', adjustable='box')\n",
    "plt.xlabel(r'$Z_{\\rm re}/\\Omega$', fontsize = 20)\n",
    "plt.ylabel(r'$-Z_{\\rm im}/\\Omega$', fontsize = 20)\n",
    "fig = plt.gcf()\n",
    "fig.set_size_inches(6.472, 4)\n",
    "\n",
    "plt.show()"
   ]
  },
  {
   "cell_type": "markdown",
   "id": "bba91bd3",
   "metadata": {},
   "source": [
    "#### 1.10 Save the recovered DRT and impedance"
   ]
  },
  {
   "cell_type": "code",
   "execution_count": null,
   "id": "2488cea9",
   "metadata": {},
   "outputs": [],
   "source": [
    "# # save the DRT recovered with RR\n",
    "# gamma_DRT_excel = pd.DataFrame(gamma_DRT)\n",
    "# gamma_DRT_excel.to_csv('./results/1ZARC_DRT-RR.csv',index=False)\n",
    "\n",
    "# # save the impedance recovered with RR\n",
    "# df = pd.DataFrame.from_dict({'Freq': freq_vec, 'Real': np.real(Z_DRT), 'Imag': np.imag(Z_DRT)})\n",
    "# df.to_csv('./results/1ZARC_Z-RR.csv')"
   ]
  },
  {
   "cell_type": "markdown",
   "id": "35e3c5c8",
   "metadata": {},
   "source": [
    "### 2. Analysis of multiple EIS spectra"
   ]
  },
  {
   "cell_type": "markdown",
   "id": "acb6b9c2",
   "metadata": {},
   "source": [
    "#### 2.1 Load and analyze many EIS spectra concomitantly"
   ]
  },
  {
   "cell_type": "code",
   "execution_count": null,
   "id": "8eb531be",
   "metadata": {},
   "outputs": [
    {
     "name": "stdout",
     "output_type": "stream",
     "text": [
      "Optimization terminated successfully    (Exit mode 0)\n",
      "            Current function value: 1.0530890797452472\n",
      "            Iterations: 7\n",
      "            Function evaluations: 14\n",
      "            Gradient evaluations: 7\n",
      "GCV\n",
      "     pcost       dcost       gap    pres   dres\n",
      " 0: -2.0042e+05 -2.0218e+05  4e+03  9e+00  5e-06\n",
      " 1: -2.0074e+05 -2.0135e+05  6e+02  9e-02  5e-08\n",
      " 2: -2.0084e+05 -2.0093e+05  9e+01  1e-02  5e-09\n",
      " 3: -2.0086e+05 -2.0091e+05  4e+01  2e-03  1e-09\n",
      " 4: -2.0087e+05 -2.0088e+05  6e+00  2e-04  1e-10\n",
      " 5: -2.0087e+05 -2.0088e+05  1e+00  1e-05  8e-12\n",
      " 6: -2.0087e+05 -2.0087e+05  3e-01  2e-06  1e-12\n",
      " 7: -2.0087e+05 -2.0087e+05  2e-01  1e-06  6e-13\n",
      " 8: -2.0084e+05 -2.0089e+05  6e+01  9e-15  3e-16\n",
      " 9: -2.0084e+05 -2.0089e+05  5e+01  2e-14  3e-16\n",
      "10: -2.0084e+05 -2.0089e+05  5e+01  2e-14  4e-20\n",
      "11: -2.0085e+05 -2.0088e+05  3e+01  2e-14  2e-20\n",
      "12: -2.0087e+05 -2.0087e+05  5e+00  3e-14  5e-16\n",
      "13: -2.0087e+05 -2.0087e+05  7e-01  2e-14  3e-16\n",
      "14: -2.0087e+05 -2.0087e+05  2e-01  2e-14  2e-16\n",
      "15: -2.0087e+05 -2.0087e+05  3e-02  1e-14  7e-17\n",
      "Optimal solution found.\n",
      "Optimization terminated successfully    (Exit mode 0)\n",
      "            Current function value: 0.7901717914054971\n",
      "            Iterations: 7\n",
      "            Function evaluations: 14\n",
      "            Gradient evaluations: 7\n",
      "GCV\n",
      "     pcost       dcost       gap    pres   dres\n",
      " 0: -2.3049e+05 -2.3280e+05  4e+03  8e+00  6e-06\n",
      " 1: -2.3080e+05 -2.3146e+05  7e+02  8e-02  6e-08\n",
      " 2: -2.3090e+05 -2.3099e+05  9e+01  8e-03  5e-09\n",
      " 3: -2.3093e+05 -2.3097e+05  3e+01  8e-05  5e-11\n",
      " 4: -2.3094e+05 -2.3094e+05  4e+00  8e-06  5e-12\n",
      " 5: -2.3094e+05 -2.3094e+05  1e+00  9e-07  6e-13\n",
      " 6: -2.3094e+05 -2.3094e+05  1e+00  8e-07  6e-13\n",
      " 7: -2.3092e+05 -2.3095e+05  2e+01  1e-14  2e-15\n",
      " 8: -2.3094e+05 -2.3094e+05  4e+00  2e-14  6e-16\n",
      " 9: -2.3094e+05 -2.3094e+05  5e-01  4e-15  2e-16\n",
      "10: -2.3094e+05 -2.3094e+05  2e-01  1e-14  3e-16\n",
      "Optimal solution found.\n",
      "Optimization terminated successfully    (Exit mode 0)\n",
      "            Current function value: 0.9735246132484329\n",
      "            Iterations: 7\n",
      "            Function evaluations: 14\n",
      "            Gradient evaluations: 7\n",
      "GCV\n",
      "     pcost       dcost       gap    pres   dres\n",
      " 0: -2.6649e+05 -2.6937e+05  5e+03  8e+00  4e-06\n",
      " 1: -2.6681e+05 -2.6750e+05  7e+02  8e-02  4e-08\n",
      " 2: -2.6692e+05 -2.6702e+05  1e+02  7e-03  4e-09\n",
      " 3: -2.6695e+05 -2.6698e+05  4e+01  6e-04  3e-10\n",
      " 4: -2.6695e+05 -2.6696e+05  5e+00  5e-05  3e-11\n",
      " 5: -2.6696e+05 -2.6696e+05  1e+00  5e-06  2e-12\n",
      " 6: -2.6696e+05 -2.6696e+05  4e-01  1e-06  8e-13\n",
      " 7: -2.6696e+05 -2.6696e+05  4e-01  1e-06  7e-13\n",
      " 8: -2.6694e+05 -2.6695e+05  1e+01  5e-15  6e-15\n",
      " 9: -2.6695e+05 -2.6695e+05  1e+00  2e-14  3e-20\n",
      "10: -2.6695e+05 -2.6695e+05  6e-02  2e-14  1e-16\n",
      "Optimal solution found.\n",
      "Optimization terminated successfully    (Exit mode 0)\n",
      "            Current function value: 0.9180896154528985\n",
      "            Iterations: 6\n",
      "            Function evaluations: 12\n",
      "            Gradient evaluations: 6\n",
      "GCV\n",
      "     pcost       dcost       gap    pres   dres\n",
      " 0: -3.0565e+05 -3.0903e+05  5e+03  9e+00  5e-06\n",
      " 1: -3.0598e+05 -3.0670e+05  7e+02  9e-02  5e-08\n",
      " 2: -3.0609e+05 -3.0621e+05  1e+02  9e-03  5e-09\n",
      " 3: -3.0613e+05 -3.0617e+05  4e+01  9e-05  5e-11\n",
      " 4: -3.0613e+05 -3.0614e+05  6e+00  1e-05  6e-12\n",
      " 5: -3.0613e+05 -3.0614e+05  2e+00  1e-06  7e-13\n",
      " 6: -3.0613e+05 -3.0614e+05  2e+00  1e-06  6e-13\n",
      " 7: -3.0609e+05 -3.0616e+05  8e+01  3e-14  1e-14\n",
      " 8: -3.0612e+05 -3.0614e+05  1e+01  3e-14  1e-16\n",
      " 9: -3.0613e+05 -3.0613e+05  2e+00  2e-14  4e-20\n",
      "10: -3.0613e+05 -3.0613e+05  3e-01  4e-15  2e-16\n",
      "11: -3.0613e+05 -3.0613e+05  4e-02  2e-14  4e-16\n",
      "Optimal solution found.\n",
      "Optimization terminated successfully    (Exit mode 0)\n",
      "            Current function value: 1.0951169985251943\n",
      "            Iterations: 6\n",
      "            Function evaluations: 12\n",
      "            Gradient evaluations: 6\n",
      "GCV\n",
      "     pcost       dcost       gap    pres   dres\n",
      " 0: -3.4915e+05 -3.5291e+05  6e+03  1e+01  5e-06\n",
      " 1: -3.4948e+05 -3.5025e+05  8e+02  1e-01  5e-08\n",
      " 2: -3.4961e+05 -3.4972e+05  1e+02  6e-03  3e-09\n",
      " 3: -3.4964e+05 -3.4967e+05  3e+01  6e-05  3e-11\n",
      " 4: -3.4965e+05 -3.4965e+05  4e+00  6e-06  3e-12\n",
      " 5: -3.4965e+05 -3.4965e+05  1e+00  1e-06  5e-13\n",
      " 6: -3.4965e+05 -3.4965e+05  1e+00  9e-07  5e-13\n",
      " 7: -3.4964e+05 -3.4965e+05  5e+00  6e-15  2e-15\n",
      " 8: -3.4965e+05 -3.4965e+05  5e-01  4e-15  3e-16\n",
      " 9: -3.4965e+05 -3.4965e+05  4e-02  2e-14  8e-17\n",
      "Optimal solution found.\n",
      "Optimization terminated successfully    (Exit mode 0)\n",
      "            Current function value: 0.9023622489444258\n",
      "            Iterations: 7\n",
      "            Function evaluations: 14\n",
      "            Gradient evaluations: 7\n",
      "GCV\n",
      "     pcost       dcost       gap    pres   dres\n",
      " 0: -3.9712e+05 -4.0128e+05  6e+03  9e+00  6e-06\n",
      " 1: -3.9745e+05 -3.9823e+05  8e+02  2e-01  1e-07\n",
      " 2: -3.9757e+05 -3.9768e+05  1e+02  1e-02  7e-09\n",
      " 3: -3.9760e+05 -3.9763e+05  3e+01  1e-04  7e-11\n",
      " 4: -3.9760e+05 -3.9761e+05  4e+00  1e-05  1e-11\n",
      " 5: -3.9761e+05 -3.9761e+05  1e+00  1e-06  7e-13\n",
      " 6: -3.9761e+05 -3.9761e+05  1e+00  9e-07  6e-13\n",
      " 7: -3.9724e+05 -3.9793e+05  7e+02  6e-15  4e-15\n",
      " 8: -3.9726e+05 -3.9791e+05  6e+02  4e-14  5e-15\n",
      " 9: -3.9728e+05 -3.9790e+05  6e+02  6e-14  5e-15\n",
      "10: -3.9733e+05 -3.9785e+05  5e+02  5e-14  6e-15\n",
      "11: -3.9742e+05 -3.9778e+05  4e+02  3e-14  4e-15\n",
      "12: -3.9757e+05 -3.9764e+05  7e+01  2e-14  1e-15\n",
      "13: -3.9760e+05 -3.9761e+05  1e+01  1e-14  2e-16\n",
      "14: -3.9760e+05 -3.9761e+05  3e+00  2e-14  5e-16\n",
      "15: -3.9760e+05 -3.9760e+05  5e-01  2e-14  5e-20\n",
      "16: -3.9760e+05 -3.9760e+05  5e-02  8e-15  8e-17\n",
      "Optimal solution found.\n"
     ]
    }
   ],
   "source": [
    "N_exp = 6 # number of EIS experiments\n",
    "\n",
    "# lists to save the DRTs and impedances\n",
    "R_inf_DRT_list = [0]*N_exp\n",
    "L_0_DRT_list = [0]*N_exp\n",
    "gamma_DRT_list = [0]*N_exp\n",
    "Z_DRT_list = [0]*N_exp\n",
    "Z_exp_list = [0]*N_exp\n",
    "\n",
    "\n",
    "for n in range(N_exp):\n",
    "    # step 1: load the experimental data\n",
    "    df = pd.read_csv('E:/Projekte/vertraulich/CMBlu/Jaehyun/script/eval/2ZARC'+str(n)+'.csv') # this artificial data was generated using the 2xZARC model\n",
    "    N_freqs = df.shape[0]\n",
    "    freq_vec = np.flip(df['Freq'].values)\n",
    "    Z_exp = np.flip(df['Real'].values + 1j*df['Imag'].values)\n",
    "    Z_exp_list[n] = Z_exp\n",
    "    \n",
    "    # step 2: compute the epsilon parameter\n",
    "    epsilon  = basics.compute_epsilon(freq_vec, coeff, rbf_type, shape_control)\n",
    "\n",
    "    # step 3: compute the differentiation matrices\n",
    "    A_re = basics.assemble_A_re(freq_vec, tau_vec, epsilon, rbf_type)\n",
    "    A_re_R_inf = np.ones((N_freqs, 1))\n",
    "    A_re_L_0 = np.zeros((N_freqs, 1))\n",
    "    A_re = np.hstack(( A_re_R_inf, A_re_L_0, A_re))\n",
    "    A_im = basics.assemble_A_im(freq_vec, tau_vec, epsilon, rbf_type)\n",
    "    A_im_R_inf = np.zeros((N_freqs, 1))\n",
    "    A_im_L_0 = 2*np.pi*freq_vec.reshape((N_freqs, 1))\n",
    "    A_im = np.hstack(( A_im_R_inf, A_im_L_0, A_im))\n",
    "    A = np.vstack((A_re, A_im))\n",
    "    \n",
    "    # step 4: compute the differentiation matrix\n",
    "    M2 = np.zeros((N_taus+2, N_taus+2))\n",
    "    M2[2:,2:] = basics.assemble_M_2(tau_vec, epsilon, rbf_type)\n",
    "    \n",
    "    # step 5: compute the regularization parameter\n",
    "    # lambda_value = basics.optimal_lambda(A_re, A_im, np.real(Z_exp), np.imag(Z_exp), M2, -3, 'GCV')\n",
    "    lambda_value = basics.optimal_lambda(A_re, A_im, np.real(Z_exp), np.imag(Z_exp), M2, -3, freq_vec, False, cv_type)\n",
    "    \n",
    "    # step 6: recover the DRT\n",
    "    ### \n",
    "    lb = np.zeros([N_taus+2])\n",
    "    bound_mat = np.eye(lb.shape[0])\n",
    "    H_combined, c_combined = basics.quad_format_combined(A_re, A_im, np.real(Z_exp), np.imag(Z_exp), M2, lambda_value)\n",
    "    \n",
    "    sol = solvers.qp(matrix(H_combined), matrix(c_combined),G,h)\n",
    "    ## deconvolved DRT\n",
    "    x = np.array(sol['x']).flatten()\n",
    "    \n",
    "    R_inf_DRT_list[n], L_0_DRT_list[n] = x[0:2]\n",
    "    gamma_DRT_list[n] = x[2:]\n",
    "    \n",
    "    # step 7: recover the impedance\n",
    "    Z_DRT = A@x\n",
    "    Z_DRT_list[n] = Z_DRT[0:N_freqs] + 1j*Z_DRT[N_freqs:]"
   ]
  },
  {
   "cell_type": "markdown",
   "id": "79415be7",
   "metadata": {},
   "source": [
    "#### 2.2 Nyquist plots"
   ]
  },
  {
   "cell_type": "code",
   "execution_count": null,
   "id": "558f1f12",
   "metadata": {},
   "outputs": [
    {
     "data": {
      "image/png": "[encoded data removed]",
      "text/plain": [
       "<Figure size 647.2x400 with 1 Axes>"
      ]
     },
     "metadata": {},
     "output_type": "display_data"
    }
   ],
   "source": [
    "color_list = ['black', 'blue', 'magenta', 'cyan', 'green', 'yellow']\n",
    "Rct = [r'$R_{\\rm ct}= 5\\Omega$',r'$ R_{\\rm ct} = 15\\Omega$', r'$ R_{\\rm ct} = 25\\Omega$', r'$ R_{\\rm ct} = 35\\Omega$', \\\n",
    "       r'$ R_{\\rm ct} = 45\\Omega$', r'$ R_{\\rm ct} = 55\\Omega$']\n",
    "# Nyquist plots of the experimental and regressed impedances\n",
    "for n in range(N_exp):\n",
    "    plt.plot(np.real(Z_exp_list[n]), -np.imag(Z_exp_list[n]), 'o', markersize=7, color='red')\n",
    "    plt.plot(np.real(Z_exp_list[n]), -np.imag(Z_exp_list[n]), linewidth=4, color=color_list[n], label= Rct[n])\n",
    "plt.legend(frameon=False, fontsize = 15, loc='upper right')\n",
    "plt.axis('scaled')\n",
    "plt.xticks(np.arange(0, 300.1, 50))\n",
    "plt.yticks(np.arange(-20, 200.1, 20))\n",
    "plt.gca().set_aspect('equal', adjustable='box')\n",
    "plt.xlabel(r'$Z_{\\rm re}/\\Omega$', fontsize = 20)\n",
    "plt.ylabel(r'$-Z_{\\rm im}/\\Omega$', fontsize = 20)\n",
    "fig = plt.gcf()\n",
    "fig.set_size_inches(6.472, 4)\n",
    "plt.show()"
   ]
  },
  {
   "cell_type": "markdown",
   "id": "22ff3cca",
   "metadata": {},
   "source": [
    "#### 2.3 DRT plots"
   ]
  },
  {
   "cell_type": "code",
   "execution_count": null,
   "id": "607f6184",
   "metadata": {},
   "outputs": [
    {
     "data": {
      "image/png": "[encoded data removed]",
      "text/plain": [
       "<Figure size 640x480 with 1 Axes>"
      ]
     },
     "metadata": {},
     "output_type": "display_data"
    }
   ],
   "source": [
    "# Plots of the recovered DRTs\n",
    "for n in range(N_exp):\n",
    "    plt.semilogx(tau_vec, gamma_DRT_list[n], linewidth=4, color=color_list[n], label=Rct[n])\n",
    "plt.legend(frameon=False, fontsize = 15)\n",
    "plt.axis([1E-6, 1E2, 0, 100])\n",
    "plt.xlabel(r'$\\tau/\\rm s$', fontsize = 20)\n",
    "plt.ylabel(r'$\\gamma/\\Omega$', fontsize = 20)\n",
    "fig.set_size_inches(6.472, 4)\n",
    "plt.savefig('2ZARC_DRT-plots.svg', dpi=300, bbox_inches='tight') # save the picture\n",
    "plt.savefig('2ZARC_DRT-plots.pdf', dpi=300, bbox_inches='tight')\n",
    "plt.show()"
   ]
  },
  {
   "cell_type": "markdown",
   "id": "192ad129",
   "metadata": {},
   "source": [
    "#### 2.4 Contour plot of the recovered DRTs"
   ]
  },
  {
   "cell_type": "code",
   "execution_count": null,
   "id": "8960c8d1",
   "metadata": {},
   "outputs": [
    {
     "ename": "FileNotFoundError",
     "evalue": "[Errno 2] No such file or directory: 'figs/2ZARC_contour-plot.svg'",
     "output_type": "error",
     "traceback": [
      "\u001b[1;31m---------------------------------------------------------------------------\u001b[0m",
      "\u001b[1;31mFileNotFoundError\u001b[0m                         Traceback (most recent call last)",
      "\u001b[1;32m~\\AppData\\Local\\Temp\\ipykernel_3500\\206515777.py\u001b[0m in \u001b[0;36m<module>\u001b[1;34m\u001b[0m\n\u001b[0;32m     30\u001b[0m \u001b[0mfig\u001b[0m\u001b[1;33m.\u001b[0m\u001b[0mset_size_inches\u001b[0m\u001b[1;33m(\u001b[0m\u001b[1;36m6.472\u001b[0m\u001b[1;33m,\u001b[0m \u001b[1;36m4\u001b[0m\u001b[1;33m)\u001b[0m\u001b[1;33m\u001b[0m\u001b[1;33m\u001b[0m\u001b[0m\n\u001b[0;32m     31\u001b[0m \u001b[1;33m\u001b[0m\u001b[0m\n\u001b[1;32m---> 32\u001b[1;33m \u001b[0mplt\u001b[0m\u001b[1;33m.\u001b[0m\u001b[0msavefig\u001b[0m\u001b[1;33m(\u001b[0m\u001b[1;34m'figs/2ZARC_contour-plot.svg'\u001b[0m\u001b[1;33m,\u001b[0m \u001b[0mdpi\u001b[0m\u001b[1;33m=\u001b[0m\u001b[1;36m300\u001b[0m\u001b[1;33m,\u001b[0m \u001b[0mbbox_inches\u001b[0m\u001b[1;33m=\u001b[0m\u001b[1;34m'tight'\u001b[0m\u001b[1;33m)\u001b[0m  \u001b[1;31m# save the picture\u001b[0m\u001b[1;33m\u001b[0m\u001b[1;33m\u001b[0m\u001b[0m\n\u001b[0m\u001b[0;32m     33\u001b[0m \u001b[0mplt\u001b[0m\u001b[1;33m.\u001b[0m\u001b[0msavefig\u001b[0m\u001b[1;33m(\u001b[0m\u001b[1;34m'figs/2ZARC_contour-plot.pdf'\u001b[0m\u001b[1;33m,\u001b[0m \u001b[0mdpi\u001b[0m\u001b[1;33m=\u001b[0m\u001b[1;36m300\u001b[0m\u001b[1;33m,\u001b[0m \u001b[0mbbox_inches\u001b[0m\u001b[1;33m=\u001b[0m\u001b[1;34m'tight'\u001b[0m\u001b[1;33m)\u001b[0m\u001b[1;33m\u001b[0m\u001b[1;33m\u001b[0m\u001b[0m\n\u001b[0;32m     34\u001b[0m \u001b[0mplt\u001b[0m\u001b[1;33m.\u001b[0m\u001b[0mshow\u001b[0m\u001b[1;33m(\u001b[0m\u001b[1;33m)\u001b[0m\u001b[1;33m\u001b[0m\u001b[1;33m\u001b[0m\u001b[0m\n",
      "\u001b[1;32mc:\\Users\\Jaehyun\\anaconda3\\envs\\cmblu\\lib\\site-packages\\matplotlib\\pyplot.py\u001b[0m in \u001b[0;36msavefig\u001b[1;34m(*args, **kwargs)\u001b[0m\n\u001b[0;32m    977\u001b[0m \u001b[1;32mdef\u001b[0m \u001b[0msavefig\u001b[0m\u001b[1;33m(\u001b[0m\u001b[1;33m*\u001b[0m\u001b[0margs\u001b[0m\u001b[1;33m,\u001b[0m \u001b[1;33m**\u001b[0m\u001b[0mkwargs\u001b[0m\u001b[1;33m)\u001b[0m\u001b[1;33m:\u001b[0m\u001b[1;33m\u001b[0m\u001b[1;33m\u001b[0m\u001b[0m\n\u001b[0;32m    978\u001b[0m     \u001b[0mfig\u001b[0m \u001b[1;33m=\u001b[0m \u001b[0mgcf\u001b[0m\u001b[1;33m(\u001b[0m\u001b[1;33m)\u001b[0m\u001b[1;33m\u001b[0m\u001b[1;33m\u001b[0m\u001b[0m\n\u001b[1;32m--> 979\u001b[1;33m     \u001b[0mres\u001b[0m \u001b[1;33m=\u001b[0m \u001b[0mfig\u001b[0m\u001b[1;33m.\u001b[0m\u001b[0msavefig\u001b[0m\u001b[1;33m(\u001b[0m\u001b[1;33m*\u001b[0m\u001b[0margs\u001b[0m\u001b[1;33m,\u001b[0m \u001b[1;33m**\u001b[0m\u001b[0mkwargs\u001b[0m\u001b[1;33m)\u001b[0m\u001b[1;33m\u001b[0m\u001b[1;33m\u001b[0m\u001b[0m\n\u001b[0m\u001b[0;32m    980\u001b[0m     \u001b[0mfig\u001b[0m\u001b[1;33m.\u001b[0m\u001b[0mcanvas\u001b[0m\u001b[1;33m.\u001b[0m\u001b[0mdraw_idle\u001b[0m\u001b[1;33m(\u001b[0m\u001b[1;33m)\u001b[0m   \u001b[1;31m# need this if 'transparent=True' to reset colors\u001b[0m\u001b[1;33m\u001b[0m\u001b[1;33m\u001b[0m\u001b[0m\n\u001b[0;32m    981\u001b[0m     \u001b[1;32mreturn\u001b[0m \u001b[0mres\u001b[0m\u001b[1;33m\u001b[0m\u001b[1;33m\u001b[0m\u001b[0m\n",
      "\u001b[1;32mc:\\Users\\Jaehyun\\anaconda3\\envs\\cmblu\\lib\\site-packages\\matplotlib\\figure.py\u001b[0m in \u001b[0;36msavefig\u001b[1;34m(self, fname, transparent, **kwargs)\u001b[0m\n\u001b[0;32m   3044\u001b[0m                         ax.patch._cm_set(facecolor='none', edgecolor='none'))\n\u001b[0;32m   3045\u001b[0m \u001b[1;33m\u001b[0m\u001b[0m\n\u001b[1;32m-> 3046\u001b[1;33m             \u001b[0mself\u001b[0m\u001b[1;33m.\u001b[0m\u001b[0mcanvas\u001b[0m\u001b[1;33m.\u001b[0m\u001b[0mprint_figure\u001b[0m\u001b[1;33m(\u001b[0m\u001b[0mfname\u001b[0m\u001b[1;33m,\u001b[0m \u001b[1;33m**\u001b[0m\u001b[0mkwargs\u001b[0m\u001b[1;33m)\u001b[0m\u001b[1;33m\u001b[0m\u001b[1;33m\u001b[0m\u001b[0m\n\u001b[0m\u001b[0;32m   3047\u001b[0m \u001b[1;33m\u001b[0m\u001b[0m\n\u001b[0;32m   3048\u001b[0m     def ginput(self, n=1, timeout=30, show_clicks=True,\n",
      "\u001b[1;32mc:\\Users\\Jaehyun\\anaconda3\\envs\\cmblu\\lib\\site-packages\\matplotlib\\backend_bases.py\u001b[0m in \u001b[0;36mprint_figure\u001b[1;34m(self, filename, dpi, facecolor, edgecolor, orientation, format, bbox_inches, pad_inches, bbox_extra_artists, backend, **kwargs)\u001b[0m\n\u001b[0;32m   2317\u001b[0m                 \u001b[1;31m# force the figure dpi to 72), so we need to set it again here.\u001b[0m\u001b[1;33m\u001b[0m\u001b[1;33m\u001b[0m\u001b[0m\n\u001b[0;32m   2318\u001b[0m                 \u001b[1;32mwith\u001b[0m \u001b[0mcbook\u001b[0m\u001b[1;33m.\u001b[0m\u001b[0m_setattr_cm\u001b[0m\u001b[1;33m(\u001b[0m\u001b[0mself\u001b[0m\u001b[1;33m.\u001b[0m\u001b[0mfigure\u001b[0m\u001b[1;33m,\u001b[0m \u001b[0mdpi\u001b[0m\u001b[1;33m=\u001b[0m\u001b[0mdpi\u001b[0m\u001b[1;33m)\u001b[0m\u001b[1;33m:\u001b[0m\u001b[1;33m\u001b[0m\u001b[1;33m\u001b[0m\u001b[0m\n\u001b[1;32m-> 2319\u001b[1;33m                     result = print_method(\n\u001b[0m\u001b[0;32m   2320\u001b[0m                         \u001b[0mfilename\u001b[0m\u001b[1;33m,\u001b[0m\u001b[1;33m\u001b[0m\u001b[1;33m\u001b[0m\u001b[0m\n\u001b[0;32m   2321\u001b[0m                         \u001b[0mfacecolor\u001b[0m\u001b[1;33m=\u001b[0m\u001b[0mfacecolor\u001b[0m\u001b[1;33m,\u001b[0m\u001b[1;33m\u001b[0m\u001b[1;33m\u001b[0m\u001b[0m\n",
      "\u001b[1;32mc:\\Users\\Jaehyun\\anaconda3\\envs\\cmblu\\lib\\site-packages\\matplotlib\\backend_bases.py\u001b[0m in \u001b[0;36mwrapper\u001b[1;34m(*args, **kwargs)\u001b[0m\n\u001b[0;32m   1646\u001b[0m             \u001b[0mkwargs\u001b[0m\u001b[1;33m.\u001b[0m\u001b[0mpop\u001b[0m\u001b[1;33m(\u001b[0m\u001b[0marg\u001b[0m\u001b[1;33m)\u001b[0m\u001b[1;33m\u001b[0m\u001b[1;33m\u001b[0m\u001b[0m\n\u001b[0;32m   1647\u001b[0m \u001b[1;33m\u001b[0m\u001b[0m\n\u001b[1;32m-> 1648\u001b[1;33m         \u001b[1;32mreturn\u001b[0m \u001b[0mfunc\u001b[0m\u001b[1;33m(\u001b[0m\u001b[1;33m*\u001b[0m\u001b[0margs\u001b[0m\u001b[1;33m,\u001b[0m \u001b[1;33m**\u001b[0m\u001b[0mkwargs\u001b[0m\u001b[1;33m)\u001b[0m\u001b[1;33m\u001b[0m\u001b[1;33m\u001b[0m\u001b[0m\n\u001b[0m\u001b[0;32m   1649\u001b[0m \u001b[1;33m\u001b[0m\u001b[0m\n\u001b[0;32m   1650\u001b[0m     \u001b[1;32mreturn\u001b[0m \u001b[0mwrapper\u001b[0m\u001b[1;33m\u001b[0m\u001b[1;33m\u001b[0m\u001b[0m\n",
      "\u001b[1;32mc:\\Users\\Jaehyun\\anaconda3\\envs\\cmblu\\lib\\site-packages\\matplotlib\\_api\\deprecation.py\u001b[0m in \u001b[0;36mwrapper\u001b[1;34m(*inner_args, **inner_kwargs)\u001b[0m\n\u001b[0;32m    387\u001b[0m             \u001b[1;31m# Early return in the simple, non-deprecated case (much faster than\u001b[0m\u001b[1;33m\u001b[0m\u001b[1;33m\u001b[0m\u001b[0m\n\u001b[0;32m    388\u001b[0m             \u001b[1;31m# calling bind()).\u001b[0m\u001b[1;33m\u001b[0m\u001b[1;33m\u001b[0m\u001b[0m\n\u001b[1;32m--> 389\u001b[1;33m             \u001b[1;32mreturn\u001b[0m \u001b[0mfunc\u001b[0m\u001b[1;33m(\u001b[0m\u001b[1;33m*\u001b[0m\u001b[0minner_args\u001b[0m\u001b[1;33m,\u001b[0m \u001b[1;33m**\u001b[0m\u001b[0minner_kwargs\u001b[0m\u001b[1;33m)\u001b[0m\u001b[1;33m\u001b[0m\u001b[1;33m\u001b[0m\u001b[0m\n\u001b[0m\u001b[0;32m    390\u001b[0m         \u001b[0marguments\u001b[0m \u001b[1;33m=\u001b[0m \u001b[0msignature\u001b[0m\u001b[1;33m.\u001b[0m\u001b[0mbind\u001b[0m\u001b[1;33m(\u001b[0m\u001b[1;33m*\u001b[0m\u001b[0minner_args\u001b[0m\u001b[1;33m,\u001b[0m \u001b[1;33m**\u001b[0m\u001b[0minner_kwargs\u001b[0m\u001b[1;33m)\u001b[0m\u001b[1;33m.\u001b[0m\u001b[0marguments\u001b[0m\u001b[1;33m\u001b[0m\u001b[1;33m\u001b[0m\u001b[0m\n\u001b[0;32m    391\u001b[0m         \u001b[1;32mif\u001b[0m \u001b[0mis_varargs\u001b[0m \u001b[1;32mand\u001b[0m \u001b[0marguments\u001b[0m\u001b[1;33m.\u001b[0m\u001b[0mget\u001b[0m\u001b[1;33m(\u001b[0m\u001b[0mname\u001b[0m\u001b[1;33m)\u001b[0m\u001b[1;33m:\u001b[0m\u001b[1;33m\u001b[0m\u001b[1;33m\u001b[0m\u001b[0m\n",
      "\u001b[1;32mc:\\Users\\Jaehyun\\anaconda3\\envs\\cmblu\\lib\\site-packages\\matplotlib\\_api\\deprecation.py\u001b[0m in \u001b[0;36mwrapper\u001b[1;34m(*inner_args, **inner_kwargs)\u001b[0m\n\u001b[0;32m    413\u001b[0m                          \u001b[1;32melse\u001b[0m \u001b[0mdeprecation_addendum\u001b[0m\u001b[1;33m,\u001b[0m\u001b[1;33m\u001b[0m\u001b[1;33m\u001b[0m\u001b[0m\n\u001b[0;32m    414\u001b[0m                 **kwargs)\n\u001b[1;32m--> 415\u001b[1;33m         \u001b[1;32mreturn\u001b[0m \u001b[0mfunc\u001b[0m\u001b[1;33m(\u001b[0m\u001b[1;33m*\u001b[0m\u001b[0minner_args\u001b[0m\u001b[1;33m,\u001b[0m \u001b[1;33m**\u001b[0m\u001b[0minner_kwargs\u001b[0m\u001b[1;33m)\u001b[0m\u001b[1;33m\u001b[0m\u001b[1;33m\u001b[0m\u001b[0m\n\u001b[0m\u001b[0;32m    416\u001b[0m \u001b[1;33m\u001b[0m\u001b[0m\n\u001b[0;32m    417\u001b[0m     \u001b[0mDECORATORS\u001b[0m\u001b[1;33m[\u001b[0m\u001b[0mwrapper\u001b[0m\u001b[1;33m]\u001b[0m \u001b[1;33m=\u001b[0m \u001b[0mdecorator\u001b[0m\u001b[1;33m\u001b[0m\u001b[1;33m\u001b[0m\u001b[0m\n",
      "\u001b[1;32mc:\\Users\\Jaehyun\\anaconda3\\envs\\cmblu\\lib\\site-packages\\matplotlib\\backends\\backend_svg.py\u001b[0m in \u001b[0;36mprint_svg\u001b[1;34m(self, filename, dpi, bbox_inches_restore, metadata, *args)\u001b[0m\n\u001b[0;32m   1319\u001b[0m             \u001b[0m__\u001b[0m \u001b[0mDC_\u001b[0m\u001b[1;33m\u001b[0m\u001b[1;33m\u001b[0m\u001b[0m\n\u001b[0;32m   1320\u001b[0m         \"\"\"\n\u001b[1;32m-> 1321\u001b[1;33m         \u001b[1;32mwith\u001b[0m \u001b[0mcbook\u001b[0m\u001b[1;33m.\u001b[0m\u001b[0mopen_file_cm\u001b[0m\u001b[1;33m(\u001b[0m\u001b[0mfilename\u001b[0m\u001b[1;33m,\u001b[0m \u001b[1;34m\"w\"\u001b[0m\u001b[1;33m,\u001b[0m \u001b[0mencoding\u001b[0m\u001b[1;33m=\u001b[0m\u001b[1;34m\"utf-8\"\u001b[0m\u001b[1;33m)\u001b[0m \u001b[1;32mas\u001b[0m \u001b[0mfh\u001b[0m\u001b[1;33m:\u001b[0m\u001b[1;33m\u001b[0m\u001b[1;33m\u001b[0m\u001b[0m\n\u001b[0m\u001b[0;32m   1322\u001b[0m             \u001b[1;32mif\u001b[0m \u001b[1;32mnot\u001b[0m \u001b[0mcbook\u001b[0m\u001b[1;33m.\u001b[0m\u001b[0mfile_requires_unicode\u001b[0m\u001b[1;33m(\u001b[0m\u001b[0mfh\u001b[0m\u001b[1;33m)\u001b[0m\u001b[1;33m:\u001b[0m\u001b[1;33m\u001b[0m\u001b[1;33m\u001b[0m\u001b[0m\n\u001b[0;32m   1323\u001b[0m                 \u001b[0mfh\u001b[0m \u001b[1;33m=\u001b[0m \u001b[0mcodecs\u001b[0m\u001b[1;33m.\u001b[0m\u001b[0mgetwriter\u001b[0m\u001b[1;33m(\u001b[0m\u001b[1;34m'utf-8'\u001b[0m\u001b[1;33m)\u001b[0m\u001b[1;33m(\u001b[0m\u001b[0mfh\u001b[0m\u001b[1;33m)\u001b[0m\u001b[1;33m\u001b[0m\u001b[1;33m\u001b[0m\u001b[0m\n",
      "\u001b[1;32mc:\\Users\\Jaehyun\\anaconda3\\envs\\cmblu\\lib\\site-packages\\matplotlib\\cbook\\__init__.py\u001b[0m in \u001b[0;36mopen_file_cm\u001b[1;34m(path_or_file, mode, encoding)\u001b[0m\n\u001b[0;32m    463\u001b[0m \u001b[1;32mdef\u001b[0m \u001b[0mopen_file_cm\u001b[0m\u001b[1;33m(\u001b[0m\u001b[0mpath_or_file\u001b[0m\u001b[1;33m,\u001b[0m \u001b[0mmode\u001b[0m\u001b[1;33m=\u001b[0m\u001b[1;34m\"r\"\u001b[0m\u001b[1;33m,\u001b[0m \u001b[0mencoding\u001b[0m\u001b[1;33m=\u001b[0m\u001b[1;32mNone\u001b[0m\u001b[1;33m)\u001b[0m\u001b[1;33m:\u001b[0m\u001b[1;33m\u001b[0m\u001b[1;33m\u001b[0m\u001b[0m\n\u001b[0;32m    464\u001b[0m     \u001b[1;34mr\"\"\"Pass through file objects and context-manage path-likes.\"\"\"\u001b[0m\u001b[1;33m\u001b[0m\u001b[1;33m\u001b[0m\u001b[0m\n\u001b[1;32m--> 465\u001b[1;33m     \u001b[0mfh\u001b[0m\u001b[1;33m,\u001b[0m \u001b[0mopened\u001b[0m \u001b[1;33m=\u001b[0m \u001b[0mto_filehandle\u001b[0m\u001b[1;33m(\u001b[0m\u001b[0mpath_or_file\u001b[0m\u001b[1;33m,\u001b[0m \u001b[0mmode\u001b[0m\u001b[1;33m,\u001b[0m \u001b[1;32mTrue\u001b[0m\u001b[1;33m,\u001b[0m \u001b[0mencoding\u001b[0m\u001b[1;33m)\u001b[0m\u001b[1;33m\u001b[0m\u001b[1;33m\u001b[0m\u001b[0m\n\u001b[0m\u001b[0;32m    466\u001b[0m     \u001b[1;32mreturn\u001b[0m \u001b[0mfh\u001b[0m \u001b[1;32mif\u001b[0m \u001b[0mopened\u001b[0m \u001b[1;32melse\u001b[0m \u001b[0mcontextlib\u001b[0m\u001b[1;33m.\u001b[0m\u001b[0mnullcontext\u001b[0m\u001b[1;33m(\u001b[0m\u001b[0mfh\u001b[0m\u001b[1;33m)\u001b[0m\u001b[1;33m\u001b[0m\u001b[1;33m\u001b[0m\u001b[0m\n\u001b[0;32m    467\u001b[0m \u001b[1;33m\u001b[0m\u001b[0m\n",
      "\u001b[1;32mc:\\Users\\Jaehyun\\anaconda3\\envs\\cmblu\\lib\\site-packages\\matplotlib\\cbook\\__init__.py\u001b[0m in \u001b[0;36mto_filehandle\u001b[1;34m(fname, flag, return_opened, encoding)\u001b[0m\n\u001b[0;32m    449\u001b[0m             \u001b[0mfh\u001b[0m \u001b[1;33m=\u001b[0m \u001b[0mbz2\u001b[0m\u001b[1;33m.\u001b[0m\u001b[0mBZ2File\u001b[0m\u001b[1;33m(\u001b[0m\u001b[0mfname\u001b[0m\u001b[1;33m,\u001b[0m \u001b[0mflag\u001b[0m\u001b[1;33m)\u001b[0m\u001b[1;33m\u001b[0m\u001b[1;33m\u001b[0m\u001b[0m\n\u001b[0;32m    450\u001b[0m         \u001b[1;32melse\u001b[0m\u001b[1;33m:\u001b[0m\u001b[1;33m\u001b[0m\u001b[1;33m\u001b[0m\u001b[0m\n\u001b[1;32m--> 451\u001b[1;33m             \u001b[0mfh\u001b[0m \u001b[1;33m=\u001b[0m \u001b[0mopen\u001b[0m\u001b[1;33m(\u001b[0m\u001b[0mfname\u001b[0m\u001b[1;33m,\u001b[0m \u001b[0mflag\u001b[0m\u001b[1;33m,\u001b[0m \u001b[0mencoding\u001b[0m\u001b[1;33m=\u001b[0m\u001b[0mencoding\u001b[0m\u001b[1;33m)\u001b[0m\u001b[1;33m\u001b[0m\u001b[1;33m\u001b[0m\u001b[0m\n\u001b[0m\u001b[0;32m    452\u001b[0m         \u001b[0mopened\u001b[0m \u001b[1;33m=\u001b[0m \u001b[1;32mTrue\u001b[0m\u001b[1;33m\u001b[0m\u001b[1;33m\u001b[0m\u001b[0m\n\u001b[0;32m    453\u001b[0m     \u001b[1;32melif\u001b[0m \u001b[0mhasattr\u001b[0m\u001b[1;33m(\u001b[0m\u001b[0mfname\u001b[0m\u001b[1;33m,\u001b[0m \u001b[1;34m'seek'\u001b[0m\u001b[1;33m)\u001b[0m\u001b[1;33m:\u001b[0m\u001b[1;33m\u001b[0m\u001b[1;33m\u001b[0m\u001b[0m\n",
      "\u001b[1;31mFileNotFoundError\u001b[0m: [Errno 2] No such file or directory: 'figs/2ZARC_contour-plot.svg'"
     ]
    },
    {
     "data": {
      "image/png": "[encoded data removed]",
      "text/plain": [
       "<Figure size 647.2x400 with 2 Axes>"
      ]
     },
     "metadata": {},
     "output_type": "display_data"
    }
   ],
   "source": [
    "# Assuming these variables are defined somewhere in your code\n",
    "N_exp = 6  # Number of experimental conditions\n",
    "\n",
    "# Custom ticks for the experimental conditions\n",
    "custom_ticks = [5, 15, 25, 35, 45, 55]\n",
    "\n",
    "# Generate the necessary matrices for contour plotting\n",
    "T_range = np.arange(N_exp)  # Experimental condition that varies between one EIS measurement to another\n",
    "temp_vec = np.array(custom_ticks, dtype=float)  # Use custom ticks as the temperature vector\n",
    "tau_mat, temp_mat = np.meshgrid(tau_vec, temp_vec)\n",
    "gamma_norm_global_mat = np.zeros((len(custom_ticks), len(tau_vec)))\n",
    "\n",
    "for index, temp in enumerate(T_range):\n",
    "    gamma_norm_global_mat[index, :] = gamma_DRT_list[index]\n",
    "\n",
    "fig = plt.figure(figsize=(6.472, 4)) \n",
    "gs = gridspec.GridSpec(1, 1) \n",
    "plt.subplots_adjust(left=None, bottom=None, right=None, top=None, wspace=0, hspace=0.5)\n",
    "ax = plt.subplot(gs[0, 0])\n",
    "cs = ax.contourf(tau_mat, temp_mat, gamma_norm_global_mat, cmap=plt.cm.plasma)\n",
    "fig.colorbar(cs, label=r'$\\gamma/\\Omega$')\n",
    "\n",
    "# Set custom ticks for the y-axis (experimental conditions)\n",
    "ax.set_yticks(custom_ticks)\n",
    "\n",
    "ax.set_ylabel(r'$R_{\\rm ct}/\\Omega$', fontsize=20)\n",
    "ax.set_xlabel(r'$\\tau/s$', fontsize=20)\n",
    "ax.set_xscale('log')\n",
    "fig = plt.gcf()\n",
    "fig.set_size_inches(6.472, 4)\n",
    "\n",
    "plt.savefig('figs/2ZARC_contour-plot.svg', dpi=300, bbox_inches='tight')  # save the picture\n",
    "plt.savefig('figs/2ZARC_contour-plot.pdf', dpi=300, bbox_inches='tight')\n",
    "plt.show()"
   ]
  },
  {
   "cell_type": "markdown",
   "id": "ee581f3b",
   "metadata": {},
   "source": [
    "#### 2.5 Save the recovered DRTs and impedances"
   ]
  },
  {
   "cell_type": "code",
   "execution_count": null,
   "id": "744497bd",
   "metadata": {},
   "outputs": [],
   "source": [
    "for n in range(N_exp):\n",
    "    \n",
    "    # save the DRT recovered with RR\n",
    "    gamma_DRT_excel = pd.DataFrame(gamma_DRT_list[n])\n",
    "    gamma_DRT_excel.to_csv('./results/2ZARC_DRT-RR_'+str(n)+'.csv',index=False)\n",
    "\n",
    "    # save the impedance recovered with RR\n",
    "    df = pd.DataFrame.from_dict({'Freq': freq_vec, 'Real': np.real(Z_DRT_list[n]), 'Imag': np.imag(Z_DRT_list[n])})\n",
    "    df.to_csv('./results/2ZARC_Z-RR_'+str(n)+'.csv')"
   ]
  },
  {
   "cell_type": "markdown",
   "id": "6b2ea44a",
   "metadata": {},
   "source": [
    "#### 2.6 Import the recovered DRTs and impedances"
   ]
  },
  {
   "cell_type": "code",
   "execution_count": null,
   "id": "7ad5ed84",
   "metadata": {},
   "outputs": [],
   "source": [
    "gamma_DRT_list = [0]*N_exp\n",
    "Z_DRT_list = [0]*N_exp\n",
    "\n",
    "for n in range(N_exp):\n",
    "    \n",
    "    # import the recovered DRTs\n",
    "    file = open('./results/2ZARC_DRT-RR_'+str(n)+'.csv')\n",
    "    gamma_DRT_list[n] = loadtxt(file, delimiter = \",\")[1:] # because there's a 0 in the first position\n",
    "\n",
    "    # import the recovered impedances\n",
    "    df = pd.read_csv('./results/2ZARC_Z-RR_'+str(n)+'.csv') # this artificial data was generated using the 2xZARC model\n",
    "    Z_DRT = np.flip(df['Real'].values + 1j*df['Imag'].values)\n",
    "    Z_DRT_list[n] = Z_exp"
   ]
  },
  {
   "cell_type": "code",
   "execution_count": null,
   "id": "c3a1dd92",
   "metadata": {},
   "outputs": [],
   "source": []
  }
 ],
 "metadata": {
  "kernelspec": {
   "display_name": "cmblu",
   "language": "python",
   "name": "python3"
  },
  "language_info": {
   "codemirror_mode": {
    "name": "ipython",
    "version": 3
   },
   "file_extension": ".py",
   "mimetype": "text/x-python",
   "name": "python",
   "nbconvert_exporter": "python",
   "pygments_lexer": "ipython3",
   "version": "3.10.9"
  }
 },
 "nbformat": 4,
 "nbformat_minor": 5
}
