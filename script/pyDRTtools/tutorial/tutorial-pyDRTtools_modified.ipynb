{
 "cells": [
  {
   "cell_type": "markdown",
   "id": "0e9dd800",
   "metadata": {},
   "source": [
    "## Import necessary packages "
   ]
  },
  {
   "cell_type": "code",
   "execution_count": 188,
   "id": "b08da209",
   "metadata": {},
   "outputs": [],
   "source": [
    "# Python modules \n",
    "import numpy as np\n",
    "import matplotlib\n",
    "import matplotlib.pyplot as plt\n",
    "matplotlib.rcParams.update(matplotlib.rcParamsDefault)\n",
    "import pandas as pd\n",
    "import importlib\n",
    "from numpy import loadtxt\n",
    "from matplotlib import gridspec # for the contour plots\n",
    "from cvxopt import matrix, solvers\n",
    "from tkinter.filedialog import askopenfilename\n",
    "\n",
    "# pyDRTtools' modules\n",
    "import pyDRTtools\n",
    "import pyDRTtools.basics as basics # pyDRTtools functions\n",
    "import pyDRTtools.GUI as UI"
   ]
  },
  {
   "cell_type": "code",
   "execution_count": 189,
   "id": "7862188e",
   "metadata": {},
   "outputs": [],
   "source": [
    "## for nice plot\n",
    "# options for the plots\n",
    "plt.rc('text', usetex=True)\n",
    "plt.rc('font', family='serif', size=15)\n",
    "plt.rc('xtick', labelsize=15)\n",
    "plt.rc('ytick', labelsize=15)\n",
    "%matplotlib inline"
   ]
  },
  {
   "cell_type": "markdown",
   "id": "48c53440",
   "metadata": {},
   "source": [
    "### 1. Analysis of a single EIS spectrum generated with the Cole-Cole model"
   ]
  },
  {
   "cell_type": "markdown",
   "id": "a28b8c02",
   "metadata": {},
   "source": [
    "#### 1.1 Load the data"
   ]
  },
  {
   "cell_type": "code",
   "execution_count": 190,
   "id": "3b94b7d2",
   "metadata": {},
   "outputs": [
    {
     "name": "stdout",
     "output_type": "stream",
     "text": [
      "64\n"
     ]
    }
   ],
   "source": [
    "file_path = askopenfilename(title=\"Select CSV files\", filetypes=[(\"CSV files\", \"*.csv\")])\n",
    "df = pd.read_csv(file_path)\n",
    "N_freqs = df.shape[0]\n",
    "print(N_freqs)\n",
    "freq_vec = np.flip(df['Frequency (Hz)'].values)\n",
    "Z_exp = np.flip(df['Zre (ohms)'].values + 1j*df['Zim (ohms)'].values)\n",
    "# freq_vec = np.flip(df['Freq'].values)\n",
    "# Z_exp = np.flip(df['Real'].values + 1j*df['Imag'].values)"
   ]
  },
  {
   "cell_type": "markdown",
   "id": "58d70464",
   "metadata": {},
   "source": [
    "#### 1.2 Define the range of timescales"
   ]
  },
  {
   "cell_type": "code",
   "execution_count": 191,
   "id": "9b598cd0",
   "metadata": {},
   "outputs": [],
   "source": [
    "# N_taus = 64\n",
    "# log_tau_min = -6  \n",
    "# log_tau_max = 2\n",
    "N_taus = N_freqs * 2\n",
    "log_tau_min = -6  \n",
    "log_tau_max = 5   \n",
    "tau_vec = np.logspace(log_tau_min, log_tau_max, num = N_taus, endpoint=True)\n",
    "log_tau_vec = np.log(tau_vec)"
   ]
  },
  {
   "cell_type": "markdown",
   "id": "5bdbfb85",
   "metadata": {},
   "source": [
    "#### 1.3 Define the discretization matrices"
   ]
  },
  {
   "cell_type": "code",
   "execution_count": 192,
   "id": "db8322ba",
   "metadata": {},
   "outputs": [],
   "source": [
    "shape_control = 'FWHM Coefficient'\n",
    "coeff = 0.5\n",
    "# coeff = 0.1 # to check difference\n",
    "# order of the derivative for the differentiation matrix M ('1st', '2nd')\n",
    "# rbf_type = 'Piecewise Linear'\n",
    "rbf_type = 'Gaussian'\n",
    "# rbf_type = 'C0 Matern'\n",
    "# rbf_type = 'C2 Matern'\n",
    "# rbf_type = 'C4 Matern'\n",
    "# rbf_type = 'C6 Matern'\n",
    "# rbf_type = 'Inverse Quadratic'\n"
   ]
  },
  {
   "cell_type": "code",
   "execution_count": 193,
   "id": "f0adb93e",
   "metadata": {},
   "outputs": [],
   "source": [
    "cv_type = 'GCV'\n",
    "# cv_type = 'mGCV'\n",
    "# cv_type = 'rGCV'\n",
    "# cv_type = 'LC'\n",
    "# cv_type = 'kf'\n",
    "# cv_type = 're-im'"
   ]
  },
  {
   "cell_type": "markdown",
   "id": "62cebb13",
   "metadata": {},
   "source": [
    "#### 1.4 Compute the discretization matrices"
   ]
  },
  {
   "cell_type": "code",
   "execution_count": 194,
   "id": "a818a538",
   "metadata": {},
   "outputs": [
    {
     "name": "stdout",
     "output_type": "stream",
     "text": [
      "epsilon:  3.6157387183652534\n",
      "8320\n",
      "8320\n",
      "16640\n"
     ]
    }
   ],
   "source": [
    "# epsilon parameter\n",
    "epsilon  = basics.compute_epsilon(freq_vec, coeff, rbf_type, shape_control)\n",
    "print('epsilon: ', epsilon)\n",
    "\n",
    "# differentiation matrix for the real part of the impedance\n",
    "# this includes the contributions of an Ohmic resistance, R_inf, and an inductance, L_0\n",
    "A_re = basics.assemble_A_re(freq_vec, tau_vec, epsilon, rbf_type)\n",
    "\n",
    "A_re_R_inf = np.ones((N_freqs, 1))\n",
    "A_re_L_0 = np.zeros((N_freqs, 1))\n",
    "A_re = np.hstack(( A_re_R_inf, A_re_L_0, A_re))\n",
    "print(A_re.size)\n",
    "\n",
    "# differentiation matrix for the imaginary part of the impedance\n",
    "A_im = basics.assemble_A_im(freq_vec, tau_vec, epsilon, rbf_type)\n",
    "\n",
    "#assemble_A_im(freq_vec, tau_vec, epsilon, 'Piecewise Linear', flag1='simple', flag2='impedance')\n",
    "\n",
    "A_im_R_inf = np.zeros((N_freqs, 1))\n",
    "A_im_L_0 = 2*np.pi*freq_vec.reshape((N_freqs, 1))\n",
    "A_im = np.hstack(( A_im_R_inf, A_im_L_0, A_im))\n",
    "print(A_im.size)\n",
    "\n",
    "# complete discretization matrix\n",
    "A = np.vstack((A_re, A_im))\n",
    "print(A.size)"
   ]
  },
  {
   "cell_type": "markdown",
   "id": "24da5bf1",
   "metadata": {},
   "source": [
    "#### 1.5 Define the differentiation matrix\n"
   ]
  },
  {
   "cell_type": "code",
   "execution_count": 195,
   "id": "aac33466",
   "metadata": {},
   "outputs": [
    {
     "name": "stdout",
     "output_type": "stream",
     "text": [
      "16900\n",
      "[[0. 0. 0. ... 0. 0. 0.]\n",
      " [0. 0. 0. ... 0. 0. 0.]\n",
      " [0. 0. 0. ... 0. 0. 0.]\n",
      " ...\n",
      " [0. 0. 0. ... 0. 0. 0.]\n",
      " [0. 0. 0. ... 0. 0. 0.]\n",
      " [0. 0. 0. ... 0. 0. 0.]]\n"
     ]
    }
   ],
   "source": [
    "# second-order differentiation matrix for ridge regression (RR) (or regularization matrix)\n",
    "M2 = np.zeros((N_taus+2, N_taus+2))\n",
    "print(M2.size)\n",
    "print(M2)\n",
    "M2[2:,2:] = basics.assemble_M_2(tau_vec, epsilon, rbf_type)"
   ]
  },
  {
   "cell_type": "markdown",
   "id": "52397d29",
   "metadata": {},
   "source": [
    "#### 1.6 Select the regularization parameter"
   ]
  },
  {
   "cell_type": "code",
   "execution_count": 196,
   "id": "94811ea5",
   "metadata": {},
   "outputs": [
    {
     "name": "stdout",
     "output_type": "stream",
     "text": [
      "Optimization terminated successfully    (Exit mode 0)\n",
      "            Current function value: 9.678136498891103e-07\n",
      "            Iterations: 1\n",
      "            Function evaluations: 2\n",
      "            Gradient evaluations: 1\n",
      "GCV\n",
      "[0.04978707]\n"
     ]
    }
   ],
   "source": [
    "# regularization parameter obtained with generalized cross-validation (GCV)\n",
    "# lambda_value = basics.optimal_lambda(A_re, A_im, np.real(Z_exp), np.imag(Z_exp), M2, -3, 'GCV')\n",
    "lambda_value = basics.optimal_lambda(A_re, A_im, np.real(Z_exp), np.imag(Z_exp), M2, A, False, -3, cv_type)\n",
    "print(lambda_value)"
   ]
  },
  {
   "cell_type": "markdown",
   "id": "844d6b15",
   "metadata": {},
   "source": [
    "#### 1.7 Deconvolve the DRT from a single EIS spectrum"
   ]
  },
  {
   "cell_type": "code",
   "execution_count": 197,
   "id": "bb945e09",
   "metadata": {},
   "outputs": [
    {
     "name": "stdout",
     "output_type": "stream",
     "text": [
      "Shape of G: (130, 130)\n",
      "Shape of h: (130, 1)\n",
      "Rank of A: 68\n",
      "Rank of G: 130\n",
      "Rank of H_combined: 130\n",
      "     pcost       dcost       gap    pres   dres\n",
      " 0: -2.1194e+01 -2.2598e+01  1e+02  1e+01  2e-03\n",
      " 1: -1.9706e+01 -2.5892e+01  1e+01  6e-01  8e-05\n",
      " 2: -2.0737e+01 -2.2267e+01  2e+00  6e-03  8e-07\n",
      " 3: -2.1117e+01 -2.1357e+01  2e-01  4e-04  5e-08\n",
      " 4: -2.1188e+01 -2.1228e+01  4e-02  2e-16  2e-15\n",
      " 5: -2.1198e+01 -2.1205e+01  7e-03  2e-16  5e-16\n",
      " 6: -2.1200e+01 -2.1202e+01  2e-03  7e-17  6e-16\n",
      " 7: -2.1200e+01 -2.1201e+01  5e-04  6e-17  1e-16\n",
      " 8: -2.1200e+01 -2.1200e+01  2e-04  6e-17  7e-16\n",
      " 9: -2.1200e+01 -2.1200e+01  2e-05  6e-17  8e-17\n",
      "Optimal solution found.\n"
     ]
    },
    {
     "data": {
      "image/png": "[encoded data removed]",
      "text/plain": [
       "<Figure size 647.2x400 with 1 Axes>"
      ]
     },
     "metadata": {},
     "output_type": "display_data"
    }
   ],
   "source": [
    "# we recover the DRT as a quadratic problem using cvxplot\n",
    "lb = np.zeros([N_taus+2])\n",
    "bound_mat = np.eye(lb.shape[0])\n",
    "\n",
    "H_combined, c_combined = basics.quad_format_combined(A_re, A_im, np.real(Z_exp), np.imag(Z_exp), M2, lambda_value)\n",
    "\n",
    "# set bound constraint\n",
    "# G = matrix(-np.identity(Z_exp.imag.shape[0]+2))\n",
    "# h = matrix(np.zeros(Z_exp.imag.shape[0]+2))\n",
    "G = matrix(-np.identity(Z_exp.imag.shape[0]+66))\n",
    "h = matrix(np.zeros(Z_exp.imag.shape[0]+66))\n",
    "\n",
    "print(\"Shape of G:\", G.size)\n",
    "print(\"Shape of h:\", h.size)\n",
    "\n",
    "print(\"Rank of A:\", np.linalg.matrix_rank(A))\n",
    "print(\"Rank of G:\", np.linalg.matrix_rank(G))\n",
    "print(\"Rank of H_combined:\", np.linalg.matrix_rank(H_combined))\n",
    "\n",
    "sol = solvers.qp(matrix(H_combined), matrix(c_combined),G,h)\n",
    "## deconvolved DRT\n",
    "x = np.array(sol['x']).flatten()\n",
    "\n",
    "R_inf_DRT, L_0_DRT = x[0:2]\n",
    "gamma_DRT = x[2:]\n",
    "\n",
    "## plot the recovered DRT\n",
    "\n",
    "fig = plt.gcf()\n",
    "plt.semilogx(tau_vec, gamma_DRT, linewidth=4, color='black', label='DRT') \n",
    "# plt.axis([1E-4, 1E3, 0, 20])\n",
    "plt.legend(frameon=False, fontsize = 15, loc='best')\n",
    "plt.xlabel(r'$\\tau/\\rm s$', fontsize = 20)\n",
    "plt.ylabel(r'$\\gamma/\\Omega$', fontsize = 20)\n",
    "fig.set_size_inches(6.472, 4)\n",
    "\n",
    "plt.show()"
   ]
  },
  {
   "cell_type": "markdown",
   "id": "a6fe08cd",
   "metadata": {},
   "source": [
    "#### 1.8 Recover the impedance"
   ]
  },
  {
   "cell_type": "code",
   "execution_count": 198,
   "id": "2c5272ff",
   "metadata": {},
   "outputs": [],
   "source": [
    "# the impedance is recovered as a matrix product\n",
    "Z_DRT = A@x\n",
    "Z_DRT = Z_DRT[0:N_freqs] + 1j*Z_DRT[N_freqs:]"
   ]
  },
  {
   "cell_type": "markdown",
   "id": "2cc33fca",
   "metadata": {},
   "source": [
    "#### 1.9 Nyquist plots"
   ]
  },
  {
   "cell_type": "code",
   "execution_count": 199,
   "id": "3d6a1334",
   "metadata": {},
   "outputs": [
    {
     "data": {
      "image/png": "[encoded data removed]",
      "text/plain": [
       "<Figure size 647.2x400 with 1 Axes>"
      ]
     },
     "metadata": {},
     "output_type": "display_data"
    }
   ],
   "source": [
    "# Nyquist plots of the exact, experimental, and recovered DRTs\n",
    "plt.plot(np.real(Z_DRT), -np.imag(Z_DRT), linewidth=4, color='black', label='RR')\n",
    "plt.plot(np.real(Z_exp), -np.imag(Z_exp), 'o', markersize=7, color='red', label='exp')\n",
    "plt.legend(frameon=False, fontsize = 15)\n",
    "plt.axis('scaled')\n",
    "# plt.xticks(range(0, 90, 20))\n",
    "# plt.yticks(range(-40, 60, 20))\n",
    "plt.gca().set_aspect('equal', adjustable='box')\n",
    "plt.xlabel(r'$Z_{\\rm re}/\\Omega$', fontsize = 20)\n",
    "plt.ylabel(r'$-Z_{\\rm im}/\\Omega$', fontsize = 20)\n",
    "fig = plt.gcf()\n",
    "fig.set_size_inches(6.472, 4)\n",
    "\n",
    "plt.show()"
   ]
  },
  {
   "cell_type": "markdown",
   "id": "bba91bd3",
   "metadata": {},
   "source": [
    "#### 1.10 Save the recovered DRT and impedance"
   ]
  },
  {
   "cell_type": "code",
   "execution_count": 200,
   "id": "2488cea9",
   "metadata": {},
   "outputs": [],
   "source": [
    "# # save the DRT recovered with RR\n",
    "# gamma_DRT_excel = pd.DataFrame(gamma_DRT)\n",
    "# gamma_DRT_excel.to_csv('./results/1ZARC_DRT-RR.csv',index=False)\n",
    "\n",
    "# # save the impedance recovered with RR\n",
    "# df = pd.DataFrame.from_dict({'Freq': freq_vec, 'Real': np.real(Z_DRT), 'Imag': np.imag(Z_DRT)})\n",
    "# df.to_csv('./results/1ZARC_Z-RR.csv')"
   ]
  },
  {
   "cell_type": "markdown",
   "id": "35e3c5c8",
   "metadata": {},
   "source": [
    "### 2. Analysis of multiple EIS spectra"
   ]
  },
  {
   "cell_type": "markdown",
   "id": "acb6b9c2",
   "metadata": {},
   "source": [
    "#### 2.1 Load and analyze many EIS spectra concomitantly"
   ]
  },
  {
   "cell_type": "code",
   "execution_count": 201,
   "id": "8eb531be",
   "metadata": {},
   "outputs": [
    {
     "name": "stdout",
     "output_type": "stream",
     "text": [
      "Optimization terminated successfully    (Exit mode 0)\n",
      "            Current function value: 0.27413248039402127\n",
      "            Iterations: 12\n",
      "            Function evaluations: 24\n",
      "            Gradient evaluations: 12\n",
      "GCV\n",
      "     pcost       dcost       gap    pres   dres\n",
      " 0: -2.0111e+05 -2.0182e+05  2e+03  1e+01  2e-06\n",
      " 1: -2.0110e+05 -2.0134e+05  3e+02  8e-01  1e-07\n",
      " 2: -2.0112e+05 -2.0114e+05  2e+01  3e-02  6e-09\n",
      " 3: -2.0112e+05 -2.0112e+05  3e+00  2e-03  4e-10\n",
      " 4: -2.0112e+05 -2.0112e+05  4e-01  3e-04  5e-11\n",
      " 5: -2.0112e+05 -2.0112e+05  7e-02  2e-05  3e-12\n",
      " 6: -2.0112e+05 -2.0112e+05  3e-03  4e-07  7e-14\n",
      " 7: -2.0112e+05 -2.0112e+05  1e-04  8e-09  1e-15\n",
      "Optimal solution found.\n",
      "Optimization terminated successfully    (Exit mode 0)\n",
      "            Current function value: 0.25438776957069176\n",
      "            Iterations: 11\n",
      "            Function evaluations: 23\n",
      "            Gradient evaluations: 11\n",
      "GCV\n",
      "     pcost       dcost       gap    pres   dres\n",
      " 0: -2.3113e+05 -2.3204e+05  2e+03  1e+01  3e-06\n",
      " 1: -2.3113e+05 -2.3139e+05  3e+02  8e-01  2e-07\n",
      " 2: -2.3115e+05 -2.3118e+05  3e+01  5e-02  1e-08\n",
      " 3: -2.3115e+05 -2.3116e+05  3e+00  3e-03  7e-10\n",
      " 4: -2.3115e+05 -2.3115e+05  7e-01  6e-04  1e-10\n",
      " 5: -2.3115e+05 -2.3115e+05  1e-01  4e-05  8e-12\n",
      " 6: -2.3115e+05 -2.3115e+05  1e-02  2e-06  4e-13\n",
      " 7: -2.3115e+05 -2.3115e+05  1e-03  4e-09  1e-15\n",
      "Optimal solution found.\n",
      "Optimization terminated successfully    (Exit mode 0)\n",
      "            Current function value: 0.27059388395697176\n",
      "            Iterations: 11\n",
      "            Function evaluations: 22\n",
      "            Gradient evaluations: 11\n",
      "GCV\n",
      "     pcost       dcost       gap    pres   dres\n",
      " 0: -2.6716e+05 -2.6818e+05  2e+03  1e+01  2e-06\n",
      " 1: -2.6716e+05 -2.6741e+05  3e+02  8e-01  1e-07\n",
      " 2: -2.6718e+05 -2.6720e+05  2e+01  3e-02  5e-09\n",
      " 3: -2.6718e+05 -2.6718e+05  3e+00  2e-03  4e-10\n",
      " 4: -2.6718e+05 -2.6718e+05  6e-01  3e-04  6e-11\n",
      " 5: -2.6718e+05 -2.6718e+05  1e-01  2e-05  3e-12\n",
      " 6: -2.6718e+05 -2.6718e+05  9e-03  8e-07  1e-13\n",
      " 7: -2.6718e+05 -2.6718e+05  8e-03  7e-07  1e-13\n",
      " 8: -2.6718e+05 -2.6718e+05  6e-02  7e-07  1e-13\n",
      " 9: -2.6718e+05 -2.6718e+05  6e-02  1e-07  2e-14\n",
      "10: -2.6718e+05 -2.6718e+05  1e-03  2e-09  4e-16\n",
      "Optimal solution found.\n",
      "Optimization terminated successfully    (Exit mode 0)\n",
      "            Current function value: 0.2805578257674004\n",
      "            Iterations: 10\n",
      "            Function evaluations: 20\n",
      "            Gradient evaluations: 10\n",
      "GCV\n",
      "     pcost       dcost       gap    pres   dres\n",
      " 0: -3.0636e+05 -3.0748e+05  2e+03  1e+01  2e-06\n",
      " 1: -3.0636e+05 -3.0662e+05  3e+02  8e-01  1e-07\n",
      " 2: -3.0638e+05 -3.0640e+05  2e+01  3e-02  6e-09\n",
      " 3: -3.0638e+05 -3.0638e+05  4e+00  3e-03  6e-10\n",
      " 4: -3.0638e+05 -3.0638e+05  6e-01  3e-04  5e-11\n",
      " 5: -3.0638e+05 -3.0638e+05  9e-02  3e-05  6e-12\n",
      " 6: -3.0638e+05 -3.0638e+05  8e-03  7e-07  1e-13\n",
      " 7: -3.0638e+05 -3.0638e+05  5e-03  4e-07  7e-14\n",
      " 8: -3.0638e+05 -3.0638e+05  5e-03  4e-07  6e-14\n",
      " 9: -3.0638e+05 -3.0638e+05  3e-02  2e-07  4e-14\n",
      "10: -3.0638e+05 -3.0638e+05  5e-03  5e-15  7e-17\n",
      "Optimal solution found.\n",
      "Optimization terminated successfully    (Exit mode 0)\n",
      "            Current function value: 0.31495337893857756\n",
      "            Iterations: 9\n",
      "            Function evaluations: 18\n",
      "            Gradient evaluations: 9\n",
      "GCV\n",
      "     pcost       dcost       gap    pres   dres\n",
      " 0: -3.4986e+05 -3.5099e+05  3e+03  1e+01  2e-06\n",
      " 1: -3.4986e+05 -3.5015e+05  3e+02  1e+00  2e-07\n",
      " 2: -3.4989e+05 -3.4991e+05  3e+01  4e-02  7e-09\n",
      " 3: -3.4989e+05 -3.4990e+05  5e+00  4e-03  7e-10\n",
      " 4: -3.4989e+05 -3.4989e+05  8e-01  1e-04  2e-11\n",
      " 5: -3.4989e+05 -3.4989e+05  5e-02  2e-06  3e-13\n",
      " 6: -3.4989e+05 -3.4989e+05  5e-03  1e-07  2e-14\n",
      " 7: -3.4989e+05 -3.4989e+05  5e-04  1e-08  2e-15\n",
      "Optimal solution found.\n",
      "Optimization terminated successfully    (Exit mode 0)\n",
      "            Current function value: 0.25975047965959974\n",
      "            Iterations: 10\n",
      "            Function evaluations: 20\n",
      "            Gradient evaluations: 10\n",
      "GCV\n",
      "     pcost       dcost       gap    pres   dres\n",
      " 0: -3.9778e+05 -3.9901e+05  2e+03  1e+01  3e-06\n",
      " 1: -3.9780e+05 -3.9808e+05  3e+02  9e-01  2e-07\n",
      " 2: -3.9781e+05 -3.9784e+05  3e+01  4e-02  8e-09\n",
      " 3: -3.9782e+05 -3.9782e+05  5e+00  6e-03  1e-09\n",
      " 4: -3.9782e+05 -3.9782e+05  1e+00  6e-04  1e-10\n",
      " 5: -3.9782e+05 -3.9782e+05  2e-01  7e-05  2e-11\n",
      " 6: -3.9782e+05 -3.9782e+05  1e-02  1e-06  3e-13\n",
      " 7: -3.9782e+05 -3.9782e+05  1e-03  8e-08  2e-14\n",
      "Optimal solution found.\n"
     ]
    }
   ],
   "source": [
    "N_exp = 6 # number of EIS experiments\n",
    "\n",
    "# lists to save the DRTs and impedances\n",
    "R_inf_DRT_list = [0]*N_exp\n",
    "L_0_DRT_list = [0]*N_exp\n",
    "gamma_DRT_list = [0]*N_exp\n",
    "Z_DRT_list = [0]*N_exp\n",
    "Z_exp_list = [0]*N_exp\n",
    "\n",
    "\n",
    "for n in range(N_exp):\n",
    "    # step 1: load the experimental data\n",
    "    df = pd.read_csv('E:/Projekte/vertraulich/CMBlu/Jaehyun/script/eval/2ZARC'+str(n)+'.csv') # this artificial data was generated using the 2xZARC model\n",
    "    N_freqs = df.shape[0]\n",
    "    freq_vec = np.flip(df['Freq'].values)\n",
    "    Z_exp = np.flip(df['Real'].values + 1j*df['Imag'].values)\n",
    "    Z_exp_list[n] = Z_exp\n",
    "    \n",
    "    # step 2: compute the epsilon parameter\n",
    "    epsilon  = basics.compute_epsilon(freq_vec, coeff, rbf_type, shape_control)\n",
    "\n",
    "    # step 3: compute the differentiation matrices\n",
    "    A_re = basics.assemble_A_re(freq_vec, tau_vec, epsilon, rbf_type)\n",
    "    A_re_R_inf = np.ones((N_freqs, 1))\n",
    "    A_re_L_0 = np.zeros((N_freqs, 1))\n",
    "    A_re = np.hstack(( A_re_R_inf, A_re_L_0, A_re))\n",
    "    A_im = basics.assemble_A_im(freq_vec, tau_vec, epsilon, rbf_type)\n",
    "    A_im_R_inf = np.zeros((N_freqs, 1))\n",
    "    A_im_L_0 = 2*np.pi*freq_vec.reshape((N_freqs, 1))\n",
    "    A_im = np.hstack(( A_im_R_inf, A_im_L_0, A_im))\n",
    "    A = np.vstack((A_re, A_im))\n",
    "    \n",
    "    # step 4: compute the differentiation matrix\n",
    "    M2 = np.zeros((N_taus+2, N_taus+2))\n",
    "    M2[2:,2:] = basics.assemble_M_2(tau_vec, epsilon, rbf_type)\n",
    "    \n",
    "    # step 5: compute the regularization parameter\n",
    "    # lambda_value = basics.optimal_lambda(A_re, A_im, np.real(Z_exp), np.imag(Z_exp), M2, -3, 'GCV')\n",
    "    lambda_value = basics.optimal_lambda(A_re, A_im, np.real(Z_exp), np.imag(Z_exp), M2, -3, freq_vec, False, cv_type)\n",
    "    \n",
    "    # step 6: recover the DRT\n",
    "    ### \n",
    "    lb = np.zeros([N_taus+2])\n",
    "    bound_mat = np.eye(lb.shape[0])\n",
    "    H_combined, c_combined = basics.quad_format_combined(A_re, A_im, np.real(Z_exp), np.imag(Z_exp), M2, lambda_value)\n",
    "    \n",
    "    sol = solvers.qp(matrix(H_combined), matrix(c_combined),G,h)\n",
    "    ## deconvolved DRT\n",
    "    x = np.array(sol['x']).flatten()\n",
    "    \n",
    "    R_inf_DRT_list[n], L_0_DRT_list[n] = x[0:2]\n",
    "    gamma_DRT_list[n] = x[2:]\n",
    "    \n",
    "    # step 7: recover the impedance\n",
    "    Z_DRT = A@x\n",
    "    Z_DRT_list[n] = Z_DRT[0:N_freqs] + 1j*Z_DRT[N_freqs:]"
   ]
  },
  {
   "cell_type": "markdown",
   "id": "79415be7",
   "metadata": {},
   "source": [
    "#### 2.2 Nyquist plots"
   ]
  },
  {
   "cell_type": "code",
   "execution_count": 202,
   "id": "558f1f12",
   "metadata": {},
   "outputs": [
    {
     "data": {
      "image/png": "[encoded data removed]",
      "text/plain": [
       "<Figure size 647.2x400 with 1 Axes>"
      ]
     },
     "metadata": {},
     "output_type": "display_data"
    }
   ],
   "source": [
    "color_list = ['black', 'blue', 'magenta', 'cyan', 'green', 'yellow']\n",
    "Rct = [r'$R_{\\rm ct}= 5\\Omega$',r'$ R_{\\rm ct} = 15\\Omega$', r'$ R_{\\rm ct} = 25\\Omega$', r'$ R_{\\rm ct} = 35\\Omega$', \\\n",
    "       r'$ R_{\\rm ct} = 45\\Omega$', r'$ R_{\\rm ct} = 55\\Omega$']\n",
    "# Nyquist plots of the experimental and regressed impedances\n",
    "for n in range(N_exp):\n",
    "    plt.plot(np.real(Z_exp_list[n]), -np.imag(Z_exp_list[n]), 'o', markersize=7, color='red')\n",
    "    plt.plot(np.real(Z_exp_list[n]), -np.imag(Z_exp_list[n]), linewidth=4, color=color_list[n], label= Rct[n])\n",
    "plt.legend(frameon=False, fontsize = 15, loc='upper right')\n",
    "plt.axis('scaled')\n",
    "plt.xticks(np.arange(0, 300.1, 50))\n",
    "plt.yticks(np.arange(-20, 200.1, 20))\n",
    "plt.gca().set_aspect('equal', adjustable='box')\n",
    "plt.xlabel(r'$Z_{\\rm re}/\\Omega$', fontsize = 20)\n",
    "plt.ylabel(r'$-Z_{\\rm im}/\\Omega$', fontsize = 20)\n",
    "fig = plt.gcf()\n",
    "fig.set_size_inches(6.472, 4)\n",
    "plt.show()"
   ]
  },
  {
   "cell_type": "markdown",
   "id": "22ff3cca",
   "metadata": {},
   "source": [
    "#### 2.3 DRT plots"
   ]
  },
  {
   "cell_type": "code",
   "execution_count": 203,
   "id": "607f6184",
   "metadata": {},
   "outputs": [
    {
     "data": {
      "image/png": "[encoded data removed]",
      "text/plain": [
       "<Figure size 640x480 with 1 Axes>"
      ]
     },
     "metadata": {},
     "output_type": "display_data"
    }
   ],
   "source": [
    "# Plots of the recovered DRTs\n",
    "for n in range(N_exp):\n",
    "    plt.semilogx(tau_vec, gamma_DRT_list[n], linewidth=4, color=color_list[n], label=Rct[n])\n",
    "plt.legend(frameon=False, fontsize = 15)\n",
    "plt.axis([1E-6, 1E2, 0, 100])\n",
    "plt.xlabel(r'$\\tau/\\rm s$', fontsize = 20)\n",
    "plt.ylabel(r'$\\gamma/\\Omega$', fontsize = 20)\n",
    "fig.set_size_inches(6.472, 4)\n",
    "plt.savefig('2ZARC_DRT-plots.svg', dpi=300, bbox_inches='tight') # save the picture\n",
    "plt.savefig('2ZARC_DRT-plots.pdf', dpi=300, bbox_inches='tight')\n",
    "plt.show()"
   ]
  },
  {
   "cell_type": "markdown",
   "id": "192ad129",
   "metadata": {},
   "source": [
    "#### 2.4 Contour plot of the recovered DRTs"
   ]
  },
  {
   "cell_type": "code",
   "execution_count": 204,
   "id": "8960c8d1",
   "metadata": {},
   "outputs": [
    {
     "data": {
      "image/png": "[encoded data removed]",
      "text/plain": [
       "<Figure size 647.2x400 with 2 Axes>"
      ]
     },
     "metadata": {},
     "output_type": "display_data"
    }
   ],
   "source": [
    "# Assuming these variables are defined somewhere in your code\n",
    "N_exp = 6  # Number of experimental conditions\n",
    "\n",
    "# Custom ticks for the experimental conditions\n",
    "custom_ticks = [5, 15, 25, 35, 45, 55]\n",
    "\n",
    "# Generate the necessary matrices for contour plotting\n",
    "T_range = np.arange(N_exp)  # Experimental condition that varies between one EIS measurement to another\n",
    "temp_vec = np.array(custom_ticks, dtype=float)  # Use custom ticks as the temperature vector\n",
    "tau_mat, temp_mat = np.meshgrid(tau_vec, temp_vec)\n",
    "gamma_norm_global_mat = np.zeros((len(custom_ticks), len(tau_vec)))\n",
    "\n",
    "for index, temp in enumerate(T_range):\n",
    "    gamma_norm_global_mat[index, :] = gamma_DRT_list[index]\n",
    "\n",
    "fig = plt.figure(figsize=(6.472, 4)) \n",
    "gs = gridspec.GridSpec(1, 1) \n",
    "plt.subplots_adjust(left=None, bottom=None, right=None, top=None, wspace=0, hspace=0.5)\n",
    "ax = plt.subplot(gs[0, 0])\n",
    "cs = ax.contourf(tau_mat, temp_mat, gamma_norm_global_mat, cmap=plt.cm.plasma)\n",
    "fig.colorbar(cs, label=r'$\\gamma/\\Omega$')\n",
    "\n",
    "# Set custom ticks for the y-axis (experimental conditions)\n",
    "ax.set_yticks(custom_ticks)\n",
    "\n",
    "ax.set_ylabel(r'$R_{\\rm ct}/\\Omega$', fontsize=20)\n",
    "ax.set_xlabel(r'$\\tau/s$', fontsize=20)\n",
    "ax.set_xscale('log')\n",
    "fig = plt.gcf()\n",
    "fig.set_size_inches(6.472, 4)\n",
    "\n",
    "plt.savefig('figs/2ZARC_contour-plot.svg', dpi=300, bbox_inches='tight')  # save the picture\n",
    "plt.savefig('figs/2ZARC_contour-plot.pdf', dpi=300, bbox_inches='tight')\n",
    "plt.show()"
   ]
  },
  {
   "cell_type": "markdown",
   "id": "ee581f3b",
   "metadata": {},
   "source": [
    "#### 2.5 Save the recovered DRTs and impedances"
   ]
  },
  {
   "cell_type": "code",
   "execution_count": 205,
   "id": "744497bd",
   "metadata": {},
   "outputs": [],
   "source": [
    "for n in range(N_exp):\n",
    "    \n",
    "    # save the DRT recovered with RR\n",
    "    gamma_DRT_excel = pd.DataFrame(gamma_DRT_list[n])\n",
    "    gamma_DRT_excel.to_csv('./results/2ZARC_DRT-RR_'+str(n)+'.csv',index=False)\n",
    "\n",
    "    # save the impedance recovered with RR\n",
    "    df = pd.DataFrame.from_dict({'Freq': freq_vec, 'Real': np.real(Z_DRT_list[n]), 'Imag': np.imag(Z_DRT_list[n])})\n",
    "    df.to_csv('./results/2ZARC_Z-RR_'+str(n)+'.csv')"
   ]
  },
  {
   "cell_type": "markdown",
   "id": "6b2ea44a",
   "metadata": {},
   "source": [
    "#### 2.6 Import the recovered DRTs and impedances"
   ]
  },
  {
   "cell_type": "code",
   "execution_count": 206,
   "id": "7ad5ed84",
   "metadata": {},
   "outputs": [],
   "source": [
    "gamma_DRT_list = [0]*N_exp\n",
    "Z_DRT_list = [0]*N_exp\n",
    "\n",
    "for n in range(N_exp):\n",
    "    \n",
    "    # import the recovered DRTs\n",
    "    file = open('./results/2ZARC_DRT-RR_'+str(n)+'.csv')\n",
    "    gamma_DRT_list[n] = loadtxt(file, delimiter = \",\")[1:] # because there's a 0 in the first position\n",
    "\n",
    "    # import the recovered impedances\n",
    "    df = pd.read_csv('./results/2ZARC_Z-RR_'+str(n)+'.csv') # this artificial data was generated using the 2xZARC model\n",
    "    Z_DRT = np.flip(df['Real'].values + 1j*df['Imag'].values)\n",
    "    Z_DRT_list[n] = Z_exp"
   ]
  },
  {
   "cell_type": "code",
   "execution_count": null,
   "id": "c3a1dd92",
   "metadata": {},
   "outputs": [],
   "source": []
  }
 ],
 "metadata": {
  "kernelspec": {
   "display_name": "cmblu",
   "language": "python",
   "name": "python3"
  },
  "language_info": {
   "codemirror_mode": {
    "name": "ipython",
    "version": 3
   },
   "file_extension": ".py",
   "mimetype": "text/x-python",
   "name": "python",
   "nbconvert_exporter": "python",
   "pygments_lexer": "ipython3",
   "version": "3.10.9"
  }
 },
 "nbformat": 4,
 "nbformat_minor": 5
}
