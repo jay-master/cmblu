{
 "cells": [
  {
   "cell_type": "markdown",
   "id": "db9603c7",
   "metadata": {},
   "source": [
    "### Import necessary packages"
   ]
  },
  {
   "cell_type": "code",
   "execution_count": 46,
   "id": "d549d223",
   "metadata": {},
   "outputs": [],
   "source": [
    "import numpy as np\n",
    "import matplotlib.pyplot as plt\n",
    "import pandas as pd"
   ]
  },
  {
   "cell_type": "markdown",
   "id": "6da8c304",
   "metadata": {},
   "source": [
    "#### 1. Single EIS spectrum generated using the 1xZARC model"
   ]
  },
  {
   "cell_type": "markdown",
   "id": "ce3e8a09",
   "metadata": {},
   "source": [
    "#### 1.1 Model parameters"
   ]
  },
  {
   "cell_type": "code",
   "execution_count": 47,
   "id": "4bf844b6",
   "metadata": {},
   "outputs": [],
   "source": [
    "R_inf = 10 # Ohmic resistance (Ohm)\n",
    "R_ct_1 = 50 # charge-transfer resistance (Ohm)\n",
    "phi_1 = 0.8 # dispersion parameter (unitless)\n",
    "tau_1 = 0.1 # characteristic timescale (s)\n",
    "R_ct_2 = 50 # charge-transfer resistance (Ohm)\n",
    "phi_2 = 0.8 # dispersion parameter (unitless)\n",
    "tau_2 = 0.0001 # characteristic timescale (s)"
   ]
  },
  {
   "cell_type": "code",
   "execution_count": 48,
   "id": "2316a359",
   "metadata": {},
   "outputs": [],
   "source": [
    "###"
   ]
  },
  {
   "cell_type": "markdown",
   "id": "342ef9d8",
   "metadata": {},
   "source": [
    "#### 1.2 Select the frequencies and timescales"
   ]
  },
  {
   "cell_type": "code",
   "execution_count": 49,
   "id": "2695f5dd",
   "metadata": {},
   "outputs": [],
   "source": [
    "# define the range of log-equispaced frequencies (Hz)\n",
    "log_freq_min = -2.\n",
    "log_freq_max = 6.\n",
    "\n",
    "# define the range of log-equispaced timescales (s) defined as the inverse of the frequencies\n",
    "log_tau_min = -6 \n",
    "log_tau_max = 2  \n",
    "\n",
    "# number of collocation points for the log frequencies and log timescales (10 points per decade)\n",
    "N_freqs = 10*int(log_freq_max-log_freq_min)+1\n",
    "N_taus = 10*int(log_tau_max-log_tau_min)+1\n",
    "\n",
    "# define the frequencies ad timescales vectors\n",
    "freq_vec = np.logspace(log_freq_min, log_freq_max, num = N_freqs, endpoint=True)\n",
    "tau_vec = np.logspace(log_tau_min, log_tau_max, num = N_taus, endpoint=True)\n",
    "log_tau_vec = np.log(tau_vec)"
   ]
  },
  {
   "cell_type": "markdown",
   "id": "489197cc",
   "metadata": {},
   "source": [
    "#### 1.3 Define the exact impedance"
   ]
  },
  {
   "cell_type": "code",
   "execution_count": 50,
   "id": "38545b5b",
   "metadata": {},
   "outputs": [],
   "source": [
    "# the experimental impedance is obtained by ladening the exact impedance with white noise\n",
    "rng = np.random.seed(12129)\n",
    "sigma_n_exp = 0.5  "
   ]
  },
  {
   "cell_type": "code",
   "execution_count": 51,
   "id": "5890d2b1",
   "metadata": {},
   "outputs": [],
   "source": [
    "# exact impedance\n",
    "Z_exact_1 = R_ct_1/(1.+(1j*2.*np.pi*freq_vec*tau_1)**phi_1)\n",
    "Z_exact_2 = R_ct_2/(1.+(1j*2.*np.pi*freq_vec*tau_2)**phi_2)\n",
    "Z_exact = R_inf + Z_exact_1 + Z_exact_2\n",
    "Z_exp = Z_exact + sigma_n_exp*(np.random.normal(0, 1, N_freqs)+1j*np.random.normal(0, 1, N_freqs))"
   ]
  },
  {
   "cell_type": "markdown",
   "id": "28e801ef",
   "metadata": {},
   "source": [
    "#### 1.4 Generate the data"
   ]
  },
  {
   "cell_type": "code",
   "execution_count": 52,
   "id": "b35e859c",
   "metadata": {},
   "outputs": [],
   "source": [
    "# the experimental impedance is obtained by ladening the exact impedance with white noise\n",
    "rng = np.random.seed(12129)\n",
    "sigma_n_exp = 0.5  \n",
    "Z_exp = Z_exact + sigma_n_exp*(np.random.normal(0, 1, N_freqs)+1j*np.random.normal(0, 1, N_freqs))"
   ]
  },
  {
   "cell_type": "code",
   "execution_count": 53,
   "id": "0eec0632",
   "metadata": {},
   "outputs": [
    {
     "data": {
      "text/plain": [
       "[<matplotlib.lines.Line2D at 0x282a9a874f0>]"
      ]
     },
     "execution_count": 53,
     "metadata": {},
     "output_type": "execute_result"
    },
    {
     "data": {
      "image/png": "[encoded data removed]",
      "text/plain": [
       "<Figure size 640x480 with 1 Axes>"
      ]
     },
     "metadata": {},
     "output_type": "display_data"
    }
   ],
   "source": [
    "plt.plot(np.real(Z_exp),-np.imag(Z_exp), 'o', color = 'red')"
   ]
  },
  {
   "cell_type": "markdown",
   "id": "4fdba995",
   "metadata": {},
   "source": [
    "#### 1.5 Save the data"
   ]
  },
  {
   "cell_type": "code",
   "execution_count": 58,
   "id": "c3039dfd",
   "metadata": {},
   "outputs": [],
   "source": [
    "# https://datagy.io/pandas-dataframe-to-csv/\n",
    "# https://datagy.io/pandas-to-excel/\n",
    "\n",
    "df = pd.DataFrame.from_dict({'Freq': freq_vec, 'Real': np.real(Z_exp), 'Imag': np.imag(Z_exp)})\n",
    "df.to_csv('E:/Projekte/vertraulich/CMBlu/Jaehyun/artificial_eis_data/2ZARCs/2XZARCequal.csv')"
   ]
  },
  {
   "cell_type": "markdown",
   "id": "69eae501",
   "metadata": {},
   "source": [
    "### 2. Multiple EIS data generated using the 2xZARC model"
   ]
  },
  {
   "cell_type": "markdown",
   "id": "a964cc54",
   "metadata": {},
   "source": [
    "#### 2.1 Model parameters"
   ]
  },
  {
   "cell_type": "code",
   "execution_count": 59,
   "id": "811c7f28",
   "metadata": {},
   "outputs": [],
   "source": [
    "R_inf = 10 # Ohmic resistance (Ohm)\n",
    "\n",
    "R_ct_1_list = [5, 15, 25, 35, 45, 55]\n",
    "\n",
    "phi_1 = 0.8 # dispersion parameter (unitless)\n",
    "tau_1 = 0.1 # characteristic timescale (s)\n",
    "R_ct_2 = 50 # charge-transfer resistance (Ohm)\n",
    "phi_2 = 0.8 # dispersion parameter (unitless)\n",
    "tau_2 = 0.0001 # characteristic timescale (s)"
   ]
  },
  {
   "cell_type": "markdown",
   "id": "92026dc0",
   "metadata": {},
   "source": [
    "#### 2.2 Define the exact impedances and save the data"
   ]
  },
  {
   "cell_type": "code",
   "execution_count": 60,
   "id": "8c1ab37d",
   "metadata": {},
   "outputs": [],
   "source": [
    "for n in range(len(R_ct_1_list)):\n",
    "    Z_exact_1 = R_ct_1_list[n]/(1.+(1j*2.*np.pi*freq_vec*tau_1)**phi_1)\n",
    "    Z_exact_2 = R_ct_2/(1.+(1j*2.*np.pi*freq_vec*tau_2)**phi_2)\n",
    "    Z_exact = R_inf + Z_exact_1 + Z_exact_2\n",
    "    Z_exp = Z_exact + sigma_n_exp*(np.random.normal(0, 1, N_freqs)+1j*np.random.normal(0, 1, N_freqs))\n",
    "    df = pd.DataFrame.from_dict({'Freq': freq_vec, 'Real': np.real(Z_exp), 'Imag': np.imag(Z_exp)})\n",
    "    df.to_csv('2ZARC'+str(n)+'.csv')\n",
    "    \n",
    "#     print(df)"
   ]
  },
  {
   "cell_type": "code",
   "execution_count": 61,
   "id": "1fb0c549",
   "metadata": {},
   "outputs": [],
   "source": [
    "# df"
   ]
  },
  {
   "cell_type": "code",
   "execution_count": null,
   "id": "de116f2f",
   "metadata": {},
   "outputs": [],
   "source": []
  },
  {
   "cell_type": "code",
   "execution_count": null,
   "id": "bb034b3e",
   "metadata": {},
   "outputs": [],
   "source": []
  },
  {
   "cell_type": "code",
   "execution_count": null,
   "id": "38d346fd",
   "metadata": {},
   "outputs": [],
   "source": []
  }
 ],
 "metadata": {
  "kernelspec": {
   "display_name": "cmblu",
   "language": "python",
   "name": "python3"
  },
  "language_info": {
   "codemirror_mode": {
    "name": "ipython",
    "version": 3
   },
   "file_extension": ".py",
   "mimetype": "text/x-python",
   "name": "python",
   "nbconvert_exporter": "python",
   "pygments_lexer": "ipython3",
   "version": "3.10.9"
  }
 },
 "nbformat": 4,
 "nbformat_minor": 5
}
