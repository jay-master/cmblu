{
 "cells": [
  {
   "cell_type": "markdown",
   "id": "0e9dd800",
   "metadata": {},
   "source": [
    "## Import necessary packages "
   ]
  },
  {
   "cell_type": "code",
   "execution_count": 561,
   "id": "b08da209",
   "metadata": {},
   "outputs": [],
   "source": [
    "# Python modules \n",
    "import numpy as np\n",
    "import matplotlib\n",
    "import matplotlib.pyplot as plt\n",
    "matplotlib.rcParams.update(matplotlib.rcParamsDefault)\n",
    "import pandas as pd\n",
    "import importlib\n",
    "from numpy import loadtxt\n",
    "from matplotlib import gridspec # for the contour plots\n",
    "from cvxopt import matrix, solvers\n",
    "from tkinter.filedialog import askopenfilename\n",
    "\n",
    "# pyDRTtools' modules\n",
    "import pyDRTtools\n",
    "import pyDRTtools.basics as basics # pyDRTtools functions\n",
    "import pyDRTtools.GUI as UI"
   ]
  },
  {
   "cell_type": "code",
   "execution_count": 562,
   "id": "7862188e",
   "metadata": {},
   "outputs": [],
   "source": [
    "## for nice plot\n",
    "# options for the plots\n",
    "plt.rc('text', usetex=True)\n",
    "plt.rc('font', family='serif', size=15)\n",
    "plt.rc('xtick', labelsize=15)\n",
    "plt.rc('ytick', labelsize=15)\n",
    "%matplotlib inline"
   ]
  },
  {
   "cell_type": "markdown",
   "id": "48c53440",
   "metadata": {},
   "source": [
    "### 1. Analysis of a single EIS spectrum generated with the Cole-Cole model"
   ]
  },
  {
   "cell_type": "markdown",
   "id": "a28b8c02",
   "metadata": {},
   "source": [
    "#### 1.1 Load the data"
   ]
  },
  {
   "cell_type": "code",
   "execution_count": 563,
   "id": "3b94b7d2",
   "metadata": {},
   "outputs": [
    {
     "name": "stdout",
     "output_type": "stream",
     "text": [
      "81\n"
     ]
    }
   ],
   "source": [
    "file_path = askopenfilename(title=\"Select CSV files\", filetypes=[(\"CSV files\", \"*.csv\")])\n",
    "df = pd.read_csv(file_path)\n",
    "N_freqs = df.shape[0]\n",
    "print(N_freqs)\n",
    "freq_vec = np.flip(df['Frequency (Hz)'].values)\n",
    "Z_exp = np.flip(df['Zre (ohms)'].values + 1j*df['Zim (ohms)'].values)\n",
    "# freq_vec = np.flip(df['Freq'].values)\n",
    "# Z_exp = np.flip(df['Real'].values + 1j*df['Imag'].values)"
   ]
  },
  {
   "cell_type": "markdown",
   "id": "58d70464",
   "metadata": {},
   "source": [
    "#### 1.2 Define the range of timescales"
   ]
  },
  {
   "cell_type": "code",
   "execution_count": 587,
   "id": "9b598cd0",
   "metadata": {},
   "outputs": [],
   "source": [
    "# N_taus = 81\n",
    "# log_tau_min = -6  \n",
    "# log_tau_max = 2\n",
    "N_taus = 81\n",
    "log_tau_min = -4  \n",
    "log_tau_max = 4   \n",
    "tau_vec = np.logspace(log_tau_min, log_tau_max, num = N_taus, endpoint=True)\n",
    "log_tau_vec = np.log(tau_vec)"
   ]
  },
  {
   "cell_type": "markdown",
   "id": "5bdbfb85",
   "metadata": {},
   "source": [
    "#### 1.3 Define the discretization matrices"
   ]
  },
  {
   "cell_type": "code",
   "execution_count": 588,
   "id": "db8322ba",
   "metadata": {},
   "outputs": [],
   "source": [
    "shape_control = 'FWHM Coefficient'\n",
    "coeff = 0.5\n",
    "# coeff = 0.1 # to check difference\n",
    "# order of the derivative for the differentiation matrix M ('1st', '2nd')\n",
    "# rbf_type = 'Piecewise Linear'\n",
    "rbf_type = 'Gaussian'\n",
    "# rbf_type = 'C0 Matern'\n",
    "# rbf_type = 'C2 Matern'\n",
    "# rbf_type = 'C4 Matern'\n",
    "# rbf_type = 'C6 Matern'\n",
    "# rbf_type = 'Inverse Quadratic'\n"
   ]
  },
  {
   "cell_type": "code",
   "execution_count": 589,
   "id": "f0adb93e",
   "metadata": {},
   "outputs": [],
   "source": [
    "cv_type = 'GCV'\n",
    "# cv_type = 'mGCV'\n",
    "# cv_type = 'rGCV'\n",
    "# cv_type = 'LC'\n",
    "# cv_type = 'kf'\n",
    "# cv_type = 're-im'"
   ]
  },
  {
   "cell_type": "markdown",
   "id": "62cebb13",
   "metadata": {},
   "source": [
    "#### 1.4 Compute the discretization matrices"
   ]
  },
  {
   "cell_type": "code",
   "execution_count": 590,
   "id": "a818a538",
   "metadata": {},
   "outputs": [
    {
     "name": "stdout",
     "output_type": "stream",
     "text": [
      "[[0.]\n",
      " [0.]\n",
      " [0.]\n",
      " [0.]\n",
      " [0.]\n",
      " [0.]\n",
      " [0.]\n",
      " [0.]\n",
      " [0.]\n",
      " [0.]\n",
      " [0.]\n",
      " [0.]\n",
      " [0.]\n",
      " [0.]\n",
      " [0.]\n",
      " [0.]\n",
      " [0.]\n",
      " [0.]\n",
      " [0.]\n",
      " [0.]\n",
      " [0.]\n",
      " [0.]\n",
      " [0.]\n",
      " [0.]\n",
      " [0.]\n",
      " [0.]\n",
      " [0.]\n",
      " [0.]\n",
      " [0.]\n",
      " [0.]\n",
      " [0.]\n",
      " [0.]\n",
      " [0.]\n",
      " [0.]\n",
      " [0.]\n",
      " [0.]\n",
      " [0.]\n",
      " [0.]\n",
      " [0.]\n",
      " [0.]\n",
      " [0.]\n",
      " [0.]\n",
      " [0.]\n",
      " [0.]\n",
      " [0.]\n",
      " [0.]\n",
      " [0.]\n",
      " [0.]\n",
      " [0.]\n",
      " [0.]\n",
      " [0.]\n",
      " [0.]\n",
      " [0.]\n",
      " [0.]\n",
      " [0.]\n",
      " [0.]\n",
      " [0.]\n",
      " [0.]\n",
      " [0.]\n",
      " [0.]\n",
      " [0.]\n",
      " [0.]\n",
      " [0.]\n",
      " [0.]\n",
      " [0.]\n",
      " [0.]\n",
      " [0.]\n",
      " [0.]\n",
      " [0.]\n",
      " [0.]\n",
      " [0.]\n",
      " [0.]\n",
      " [0.]\n",
      " [0.]\n",
      " [0.]\n",
      " [0.]\n",
      " [0.]\n",
      " [0.]\n",
      " [0.]\n",
      " [0.]\n",
      " [0.]]\n",
      "6723\n",
      "6723\n",
      "13446\n"
     ]
    }
   ],
   "source": [
    "# epsilon parameter\n",
    "epsilon  = basics.compute_epsilon(freq_vec, coeff, rbf_type, shape_control)\n",
    "\n",
    "# differentiation matrix for the real part of the impedance\n",
    "# this includes the contributions of an Ohmic resistance, R_inf, and an inductance, L_0\n",
    "A_re = basics.assemble_A_re(freq_vec, tau_vec, epsilon, rbf_type)\n",
    "\n",
    "A_re_R_inf = np.ones((N_freqs, 1))\n",
    "print(A_im_R_inf)\n",
    "A_re_L_0 = np.zeros((N_freqs, 1))\n",
    "A_re = np.hstack(( A_re_R_inf, A_re_L_0, A_re))\n",
    "print(A_re.size)\n",
    "\n",
    "# differentiation matrix for the imaginary part of the impedance\n",
    "A_im = basics.assemble_A_im(freq_vec, tau_vec, epsilon, rbf_type)\n",
    "\n",
    "#assemble_A_im(freq_vec, tau_vec, epsilon, 'Piecewise Linear', flag1='simple', flag2='impedance')\n",
    "\n",
    "A_im_R_inf = np.zeros((N_freqs, 1))\n",
    "A_im_L_0 = 2*np.pi*freq_vec.reshape((N_freqs, 1))\n",
    "A_im = np.hstack(( A_im_R_inf, A_im_L_0, A_im))\n",
    "print(A_im.size)\n",
    "\n",
    "# complete discretization matrix\n",
    "A = np.vstack((A_re, A_im))\n",
    "print(A.size)"
   ]
  },
  {
   "cell_type": "markdown",
   "id": "24da5bf1",
   "metadata": {},
   "source": [
    "#### 1.5 Define the differentiation matrix\n"
   ]
  },
  {
   "cell_type": "code",
   "execution_count": 605,
   "id": "aac33466",
   "metadata": {},
   "outputs": [
    {
     "name": "stdout",
     "output_type": "stream",
     "text": [
      "6889\n",
      "[[0. 0. 0. ... 0. 0. 0.]\n",
      " [0. 0. 0. ... 0. 0. 0.]\n",
      " [0. 0. 0. ... 0. 0. 0.]\n",
      " ...\n",
      " [0. 0. 0. ... 0. 0. 0.]\n",
      " [0. 0. 0. ... 0. 0. 0.]\n",
      " [0. 0. 0. ... 0. 0. 0.]]\n"
     ]
    }
   ],
   "source": [
    "# second-order differentiation matrix for ridge regression (RR)\n",
    "M2 = np.zeros((N_taus+2, N_taus+2))\n",
    "print(M2.size)\n",
    "print(M2)\n",
    "M2[2:,2:] = basics.assemble_M_2(tau_vec, epsilon, rbf_type)\n",
    "\n",
    "# Test: Make M2 1st order\n",
    "for i in range(N_taus):\n",
    "    M2[i+2, i+2] = -1\n",
    "    if i+3 < N_taus + 2:\n",
    "        M2[i+2, i+3] = 1\n"
   ]
  },
  {
   "cell_type": "markdown",
   "id": "52397d29",
   "metadata": {},
   "source": [
    "#### 1.6 Select the regularization parameter"
   ]
  },
  {
   "cell_type": "code",
   "execution_count": 606,
   "id": "94811ea5",
   "metadata": {},
   "outputs": [
    {
     "name": "stdout",
     "output_type": "stream",
     "text": [
      "Optimization terminated successfully    (Exit mode 0)\n",
      "            Current function value: 919.7356181293582\n",
      "            Iterations: 5\n",
      "            Function evaluations: 2\n",
      "            Gradient evaluations: 1\n",
      "GCV\n"
     ]
    }
   ],
   "source": [
    "# regularization parameter obtained with generalized cross-validation (GCV)\n",
    "# lambda_value = basics.optimal_lambda(A_re, A_im, np.real(Z_exp), np.imag(Z_exp), M2, -3, 'GCV')\n",
    "lambda_value = basics.optimal_lambda(A_re, A_im, np.real(Z_exp), np.imag(Z_exp), M2, -3, freq_vec, False, cv_type)"
   ]
  },
  {
   "cell_type": "markdown",
   "id": "844d6b15",
   "metadata": {},
   "source": [
    "#### 1.7 Deconvolve the DRT from a single EIS spectrum"
   ]
  },
  {
   "cell_type": "code",
   "execution_count": 607,
   "id": "bb945e09",
   "metadata": {},
   "outputs": [
    {
     "ename": "ValueError",
     "evalue": "Rank(A) < p or Rank([P; A; G]) < n",
     "output_type": "error",
     "traceback": [
      "\u001b[1;31m---------------------------------------------------------------------------\u001b[0m",
      "\u001b[1;31mArithmeticError\u001b[0m                           Traceback (most recent call last)",
      "\u001b[1;32mc:\\Users\\Jaehyun\\anaconda3\\envs\\cmblu\\lib\\site-packages\\cvxopt\\misc.py\u001b[0m in \u001b[0;36mfactor\u001b[1;34m(W, H, Df)\u001b[0m\n\u001b[0;32m   1428\u001b[0m                 \u001b[1;32mif\u001b[0m \u001b[0mtype\u001b[0m\u001b[1;33m(\u001b[0m\u001b[0mF\u001b[0m\u001b[1;33m[\u001b[0m\u001b[1;34m'S'\u001b[0m\u001b[1;33m]\u001b[0m\u001b[1;33m)\u001b[0m \u001b[1;32mis\u001b[0m \u001b[0mmatrix\u001b[0m\u001b[1;33m:\u001b[0m\u001b[1;33m\u001b[0m\u001b[1;33m\u001b[0m\u001b[0m\n\u001b[1;32m-> 1429\u001b[1;33m                     \u001b[0mlapack\u001b[0m\u001b[1;33m.\u001b[0m\u001b[0mpotrf\u001b[0m\u001b[1;33m(\u001b[0m\u001b[0mF\u001b[0m\u001b[1;33m[\u001b[0m\u001b[1;34m'S'\u001b[0m\u001b[1;33m]\u001b[0m\u001b[1;33m)\u001b[0m\u001b[1;33m\u001b[0m\u001b[1;33m\u001b[0m\u001b[0m\n\u001b[0m\u001b[0;32m   1430\u001b[0m                 \u001b[1;32melse\u001b[0m\u001b[1;33m:\u001b[0m\u001b[1;33m\u001b[0m\u001b[1;33m\u001b[0m\u001b[0m\n",
      "\u001b[1;31mArithmeticError\u001b[0m: 4",
      "\nDuring handling of the above exception, another exception occurred:\n",
      "\u001b[1;31mArithmeticError\u001b[0m                           Traceback (most recent call last)",
      "\u001b[1;32mc:\\Users\\Jaehyun\\anaconda3\\envs\\cmblu\\lib\\site-packages\\cvxopt\\coneprog.py\u001b[0m in \u001b[0;36mconeqp\u001b[1;34m(P, q, G, h, dims, A, b, initvals, kktsolver, xnewcopy, xdot, xaxpy, xscal, ynewcopy, ydot, yaxpy, yscal, **kwargs)\u001b[0m\n\u001b[0;32m   2064\u001b[0m         \u001b[1;32mfor\u001b[0m \u001b[0mrti\u001b[0m \u001b[1;32min\u001b[0m \u001b[0mW\u001b[0m\u001b[1;33m[\u001b[0m\u001b[1;34m'rti'\u001b[0m\u001b[1;33m]\u001b[0m\u001b[1;33m:\u001b[0m \u001b[0mrti\u001b[0m\u001b[1;33m[\u001b[0m\u001b[1;33m:\u001b[0m\u001b[1;33m:\u001b[0m\u001b[0mrti\u001b[0m\u001b[1;33m.\u001b[0m\u001b[0msize\u001b[0m\u001b[1;33m[\u001b[0m\u001b[1;36m0\u001b[0m\u001b[1;33m]\u001b[0m\u001b[1;33m+\u001b[0m\u001b[1;36m1\u001b[0m \u001b[1;33m]\u001b[0m \u001b[1;33m=\u001b[0m \u001b[1;36m1.0\u001b[0m\u001b[1;33m\u001b[0m\u001b[1;33m\u001b[0m\u001b[0m\n\u001b[1;32m-> 2065\u001b[1;33m         \u001b[1;32mtry\u001b[0m\u001b[1;33m:\u001b[0m \u001b[0mf\u001b[0m \u001b[1;33m=\u001b[0m \u001b[0mkktsolver\u001b[0m\u001b[1;33m(\u001b[0m\u001b[0mW\u001b[0m\u001b[1;33m)\u001b[0m\u001b[1;33m\u001b[0m\u001b[1;33m\u001b[0m\u001b[0m\n\u001b[0m\u001b[0;32m   2066\u001b[0m         \u001b[1;32mexcept\u001b[0m \u001b[0mArithmeticError\u001b[0m\u001b[1;33m:\u001b[0m\u001b[1;33m\u001b[0m\u001b[1;33m\u001b[0m\u001b[0m\n",
      "\u001b[1;32mc:\\Users\\Jaehyun\\anaconda3\\envs\\cmblu\\lib\\site-packages\\cvxopt\\coneprog.py\u001b[0m in \u001b[0;36mkktsolver\u001b[1;34m(W)\u001b[0m\n\u001b[0;32m   1980\u001b[0m          \u001b[1;32mdef\u001b[0m \u001b[0mkktsolver\u001b[0m\u001b[1;33m(\u001b[0m\u001b[0mW\u001b[0m\u001b[1;33m)\u001b[0m\u001b[1;33m:\u001b[0m\u001b[1;33m\u001b[0m\u001b[1;33m\u001b[0m\u001b[0m\n\u001b[1;32m-> 1981\u001b[1;33m              \u001b[1;32mreturn\u001b[0m \u001b[0mfactor\u001b[0m\u001b[1;33m(\u001b[0m\u001b[0mW\u001b[0m\u001b[1;33m,\u001b[0m \u001b[0mP\u001b[0m\u001b[1;33m)\u001b[0m\u001b[1;33m\u001b[0m\u001b[1;33m\u001b[0m\u001b[0m\n\u001b[0m\u001b[0;32m   1982\u001b[0m \u001b[1;33m\u001b[0m\u001b[0m\n",
      "\u001b[1;32mc:\\Users\\Jaehyun\\anaconda3\\envs\\cmblu\\lib\\site-packages\\cvxopt\\misc.py\u001b[0m in \u001b[0;36mfactor\u001b[1;34m(W, H, Df)\u001b[0m\n\u001b[0;32m   1443\u001b[0m                 \u001b[1;32mif\u001b[0m \u001b[0mtype\u001b[0m\u001b[1;33m(\u001b[0m\u001b[0mF\u001b[0m\u001b[1;33m[\u001b[0m\u001b[1;34m'S'\u001b[0m\u001b[1;33m]\u001b[0m\u001b[1;33m)\u001b[0m \u001b[1;32mis\u001b[0m \u001b[0mmatrix\u001b[0m\u001b[1;33m:\u001b[0m\u001b[1;33m\u001b[0m\u001b[1;33m\u001b[0m\u001b[0m\n\u001b[1;32m-> 1444\u001b[1;33m                     \u001b[0mlapack\u001b[0m\u001b[1;33m.\u001b[0m\u001b[0mpotrf\u001b[0m\u001b[1;33m(\u001b[0m\u001b[0mF\u001b[0m\u001b[1;33m[\u001b[0m\u001b[1;34m'S'\u001b[0m\u001b[1;33m]\u001b[0m\u001b[1;33m)\u001b[0m\u001b[1;33m\u001b[0m\u001b[1;33m\u001b[0m\u001b[0m\n\u001b[0m\u001b[0;32m   1445\u001b[0m                 \u001b[1;32melse\u001b[0m\u001b[1;33m:\u001b[0m\u001b[1;33m\u001b[0m\u001b[1;33m\u001b[0m\u001b[0m\n",
      "\u001b[1;31mArithmeticError\u001b[0m: 4",
      "\nDuring handling of the above exception, another exception occurred:\n",
      "\u001b[1;31mValueError\u001b[0m                                Traceback (most recent call last)",
      "\u001b[1;32m~\\AppData\\Local\\Temp\\ipykernel_4920\\778633453.py\u001b[0m in \u001b[0;36m<module>\u001b[1;34m\u001b[0m\n\u001b[0;32m     16\u001b[0m \u001b[1;31m# print(\"Rank of H_combined:\", np.linalg.matrix_rank(H_combined))\u001b[0m\u001b[1;33m\u001b[0m\u001b[1;33m\u001b[0m\u001b[0m\n\u001b[0;32m     17\u001b[0m \u001b[1;33m\u001b[0m\u001b[0m\n\u001b[1;32m---> 18\u001b[1;33m \u001b[0msol\u001b[0m \u001b[1;33m=\u001b[0m \u001b[0msolvers\u001b[0m\u001b[1;33m.\u001b[0m\u001b[0mqp\u001b[0m\u001b[1;33m(\u001b[0m\u001b[0mmatrix\u001b[0m\u001b[1;33m(\u001b[0m\u001b[0mH_combined\u001b[0m\u001b[1;33m)\u001b[0m\u001b[1;33m,\u001b[0m \u001b[0mmatrix\u001b[0m\u001b[1;33m(\u001b[0m\u001b[0mc_combined\u001b[0m\u001b[1;33m)\u001b[0m\u001b[1;33m,\u001b[0m\u001b[0mG\u001b[0m\u001b[1;33m,\u001b[0m\u001b[0mh\u001b[0m\u001b[1;33m)\u001b[0m\u001b[1;33m\u001b[0m\u001b[1;33m\u001b[0m\u001b[0m\n\u001b[0m\u001b[0;32m     19\u001b[0m \u001b[1;31m## deconvolved DRT\u001b[0m\u001b[1;33m\u001b[0m\u001b[1;33m\u001b[0m\u001b[0m\n\u001b[0;32m     20\u001b[0m \u001b[0mx\u001b[0m \u001b[1;33m=\u001b[0m \u001b[0mnp\u001b[0m\u001b[1;33m.\u001b[0m\u001b[0marray\u001b[0m\u001b[1;33m(\u001b[0m\u001b[0msol\u001b[0m\u001b[1;33m[\u001b[0m\u001b[1;34m'x'\u001b[0m\u001b[1;33m]\u001b[0m\u001b[1;33m)\u001b[0m\u001b[1;33m.\u001b[0m\u001b[0mflatten\u001b[0m\u001b[1;33m(\u001b[0m\u001b[1;33m)\u001b[0m\u001b[1;33m\u001b[0m\u001b[1;33m\u001b[0m\u001b[0m\n",
      "\u001b[1;32mc:\\Users\\Jaehyun\\anaconda3\\envs\\cmblu\\lib\\site-packages\\cvxopt\\coneprog.py\u001b[0m in \u001b[0;36mqp\u001b[1;34m(P, q, G, h, A, b, solver, kktsolver, initvals, **kwargs)\u001b[0m\n\u001b[0;32m   4483\u001b[0m             'residual as dual infeasibility certificate': dinfres}\n\u001b[0;32m   4484\u001b[0m \u001b[1;33m\u001b[0m\u001b[0m\n\u001b[1;32m-> 4485\u001b[1;33m     \u001b[1;32mreturn\u001b[0m \u001b[0mconeqp\u001b[0m\u001b[1;33m(\u001b[0m\u001b[0mP\u001b[0m\u001b[1;33m,\u001b[0m \u001b[0mq\u001b[0m\u001b[1;33m,\u001b[0m \u001b[0mG\u001b[0m\u001b[1;33m,\u001b[0m \u001b[0mh\u001b[0m\u001b[1;33m,\u001b[0m \u001b[1;32mNone\u001b[0m\u001b[1;33m,\u001b[0m \u001b[0mA\u001b[0m\u001b[1;33m,\u001b[0m  \u001b[0mb\u001b[0m\u001b[1;33m,\u001b[0m \u001b[0minitvals\u001b[0m\u001b[1;33m,\u001b[0m \u001b[0mkktsolver\u001b[0m \u001b[1;33m=\u001b[0m \u001b[0mkktsolver\u001b[0m\u001b[1;33m,\u001b[0m \u001b[0moptions\u001b[0m \u001b[1;33m=\u001b[0m \u001b[0moptions\u001b[0m\u001b[1;33m)\u001b[0m\u001b[1;33m\u001b[0m\u001b[1;33m\u001b[0m\u001b[0m\n\u001b[0m",
      "\u001b[1;32mc:\\Users\\Jaehyun\\anaconda3\\envs\\cmblu\\lib\\site-packages\\cvxopt\\coneprog.py\u001b[0m in \u001b[0;36mconeqp\u001b[1;34m(P, q, G, h, dims, A, b, initvals, kktsolver, xnewcopy, xdot, xaxpy, xscal, ynewcopy, ydot, yaxpy, yscal, **kwargs)\u001b[0m\n\u001b[0;32m   2065\u001b[0m         \u001b[1;32mtry\u001b[0m\u001b[1;33m:\u001b[0m \u001b[0mf\u001b[0m \u001b[1;33m=\u001b[0m \u001b[0mkktsolver\u001b[0m\u001b[1;33m(\u001b[0m\u001b[0mW\u001b[0m\u001b[1;33m)\u001b[0m\u001b[1;33m\u001b[0m\u001b[1;33m\u001b[0m\u001b[0m\n\u001b[0;32m   2066\u001b[0m         \u001b[1;32mexcept\u001b[0m \u001b[0mArithmeticError\u001b[0m\u001b[1;33m:\u001b[0m\u001b[1;33m\u001b[0m\u001b[1;33m\u001b[0m\u001b[0m\n\u001b[1;32m-> 2067\u001b[1;33m             \u001b[1;32mraise\u001b[0m \u001b[0mValueError\u001b[0m\u001b[1;33m(\u001b[0m\u001b[1;34m\"Rank(A) < p or Rank([P; A; G]) < n\"\u001b[0m\u001b[1;33m)\u001b[0m\u001b[1;33m\u001b[0m\u001b[1;33m\u001b[0m\u001b[0m\n\u001b[0m\u001b[0;32m   2068\u001b[0m \u001b[1;33m\u001b[0m\u001b[0m\n\u001b[0;32m   2069\u001b[0m \u001b[1;33m\u001b[0m\u001b[0m\n",
      "\u001b[1;31mValueError\u001b[0m: Rank(A) < p or Rank([P; A; G]) < n"
     ]
    }
   ],
   "source": [
    "# we recover the DRT as a quadratic problem using cvxplot\n",
    "lb = np.zeros([N_taus+2])\n",
    "bound_mat = np.eye(lb.shape[0])\n",
    "\n",
    "H_combined, c_combined = basics.quad_format_combined(A_re, A_im, np.real(Z_exp), np.imag(Z_exp), M2, lambda_value)\n",
    "\n",
    "# set bound constraint\n",
    "G = matrix(-np.identity(Z_exp.imag.shape[0]+2))\n",
    "h = matrix(np.zeros(Z_exp.imag.shape[0]+2))\n",
    "\n",
    "# print(\"Shape of G:\", G.size)\n",
    "# print(\"Shape of h:\", h.size)\n",
    "\n",
    "# print(\"Rank of A:\", np.linalg.matrix_rank(A))\n",
    "# print(\"Rank of G:\", np.linalg.matrix_rank(G))\n",
    "# print(\"Rank of H_combined:\", np.linalg.matrix_rank(H_combined))\n",
    "\n",
    "sol = solvers.qp(matrix(H_combined), matrix(c_combined),G,h)\n",
    "## deconvolved DRT\n",
    "x = np.array(sol['x']).flatten()\n",
    "\n",
    "R_inf_DRT, L_0_DRT = x[0:2]\n",
    "gamma_DRT = x[2:]\n",
    "\n",
    "## plot the recovered DRT\n",
    "\n",
    "fig = plt.gcf()\n",
    "plt.semilogx(tau_vec, gamma_DRT, linewidth=4, color='black', label='DRT') \n",
    "# plt.axis([1E-4, 1E3, 0, 20])\n",
    "plt.legend(frameon=False, fontsize = 15, loc='upper left')\n",
    "plt.xlabel(r'$\\tau/\\rm s$', fontsize = 20)\n",
    "plt.ylabel(r'$\\gamma/\\Omega$', fontsize = 20)\n",
    "fig.set_size_inches(6.472, 4)\n",
    "\n",
    "plt.show()"
   ]
  },
  {
   "cell_type": "markdown",
   "id": "a6fe08cd",
   "metadata": {},
   "source": [
    "#### 1.8 Recover the impedance"
   ]
  },
  {
   "cell_type": "code",
   "execution_count": null,
   "id": "2c5272ff",
   "metadata": {},
   "outputs": [],
   "source": [
    "# the impedance is recovered as a matrix product\n",
    "Z_DRT = A@x\n",
    "Z_DRT = Z_DRT[0:N_freqs] + 1j*Z_DRT[N_freqs:]"
   ]
  },
  {
   "cell_type": "markdown",
   "id": "2cc33fca",
   "metadata": {},
   "source": [
    "#### 1.9 Nyquist plots"
   ]
  },
  {
   "cell_type": "code",
   "execution_count": null,
   "id": "3d6a1334",
   "metadata": {},
   "outputs": [
    {
     "data": {
      "image/png": "[encoded data removed]",
      "text/plain": [
       "<Figure size 647.2x400 with 1 Axes>"
      ]
     },
     "metadata": {},
     "output_type": "display_data"
    }
   ],
   "source": [
    "# Nyquist plots of the exact, experimental, and recovered DRTs\n",
    "plt.plot(np.real(Z_DRT), -np.imag(Z_DRT), linewidth=4, color='black', label='RR')\n",
    "plt.plot(np.real(Z_exp), -np.imag(Z_exp), 'o', markersize=7, color='red', label='exp')\n",
    "plt.legend(frameon=False, fontsize = 15)\n",
    "plt.axis('scaled')\n",
    "# plt.xticks(range(0, 90, 20))\n",
    "# plt.yticks(range(-40, 60, 20))\n",
    "plt.gca().set_aspect('equal', adjustable='box')\n",
    "plt.xlabel(r'$Z_{\\rm re}/\\Omega$', fontsize = 20)\n",
    "plt.ylabel(r'$-Z_{\\rm im}/\\Omega$', fontsize = 20)\n",
    "fig = plt.gcf()\n",
    "fig.set_size_inches(6.472, 4)\n",
    "\n",
    "plt.show()"
   ]
  },
  {
   "cell_type": "markdown",
   "id": "bba91bd3",
   "metadata": {},
   "source": [
    "#### 1.10 Save the recovered DRT and impedance"
   ]
  },
  {
   "cell_type": "code",
   "execution_count": null,
   "id": "2488cea9",
   "metadata": {},
   "outputs": [
    {
     "ename": "OSError",
     "evalue": "Cannot save file into a non-existent directory: 'results'",
     "output_type": "error",
     "traceback": [
      "\u001b[1;31m---------------------------------------------------------------------------\u001b[0m",
      "\u001b[1;31mOSError\u001b[0m                                   Traceback (most recent call last)",
      "\u001b[1;32m~\\AppData\\Local\\Temp\\ipykernel_4920\\2258390167.py\u001b[0m in \u001b[0;36m<module>\u001b[1;34m\u001b[0m\n\u001b[0;32m      1\u001b[0m \u001b[1;31m# save the DRT recovered with RR\u001b[0m\u001b[1;33m\u001b[0m\u001b[1;33m\u001b[0m\u001b[0m\n\u001b[0;32m      2\u001b[0m \u001b[0mgamma_DRT_excel\u001b[0m \u001b[1;33m=\u001b[0m \u001b[0mpd\u001b[0m\u001b[1;33m.\u001b[0m\u001b[0mDataFrame\u001b[0m\u001b[1;33m(\u001b[0m\u001b[0mgamma_DRT\u001b[0m\u001b[1;33m)\u001b[0m\u001b[1;33m\u001b[0m\u001b[1;33m\u001b[0m\u001b[0m\n\u001b[1;32m----> 3\u001b[1;33m \u001b[0mgamma_DRT_excel\u001b[0m\u001b[1;33m.\u001b[0m\u001b[0mto_csv\u001b[0m\u001b[1;33m(\u001b[0m\u001b[1;34m'./results/1ZARC_DRT-RR.csv'\u001b[0m\u001b[1;33m,\u001b[0m\u001b[0mindex\u001b[0m\u001b[1;33m=\u001b[0m\u001b[1;32mFalse\u001b[0m\u001b[1;33m)\u001b[0m\u001b[1;33m\u001b[0m\u001b[1;33m\u001b[0m\u001b[0m\n\u001b[0m\u001b[0;32m      4\u001b[0m \u001b[1;33m\u001b[0m\u001b[0m\n\u001b[0;32m      5\u001b[0m \u001b[1;31m# save the impedance recovered with RR\u001b[0m\u001b[1;33m\u001b[0m\u001b[1;33m\u001b[0m\u001b[0m\n",
      "\u001b[1;32mc:\\Users\\Jaehyun\\anaconda3\\envs\\cmblu\\lib\\site-packages\\pandas\\util\\_decorators.py\u001b[0m in \u001b[0;36mwrapper\u001b[1;34m(*args, **kwargs)\u001b[0m\n\u001b[0;32m    209\u001b[0m                 \u001b[1;32melse\u001b[0m\u001b[1;33m:\u001b[0m\u001b[1;33m\u001b[0m\u001b[1;33m\u001b[0m\u001b[0m\n\u001b[0;32m    210\u001b[0m                     \u001b[0mkwargs\u001b[0m\u001b[1;33m[\u001b[0m\u001b[0mnew_arg_name\u001b[0m\u001b[1;33m]\u001b[0m \u001b[1;33m=\u001b[0m \u001b[0mnew_arg_value\u001b[0m\u001b[1;33m\u001b[0m\u001b[1;33m\u001b[0m\u001b[0m\n\u001b[1;32m--> 211\u001b[1;33m             \u001b[1;32mreturn\u001b[0m \u001b[0mfunc\u001b[0m\u001b[1;33m(\u001b[0m\u001b[1;33m*\u001b[0m\u001b[0margs\u001b[0m\u001b[1;33m,\u001b[0m \u001b[1;33m**\u001b[0m\u001b[0mkwargs\u001b[0m\u001b[1;33m)\u001b[0m\u001b[1;33m\u001b[0m\u001b[1;33m\u001b[0m\u001b[0m\n\u001b[0m\u001b[0;32m    212\u001b[0m \u001b[1;33m\u001b[0m\u001b[0m\n\u001b[0;32m    213\u001b[0m         \u001b[1;32mreturn\u001b[0m \u001b[0mcast\u001b[0m\u001b[1;33m(\u001b[0m\u001b[0mF\u001b[0m\u001b[1;33m,\u001b[0m \u001b[0mwrapper\u001b[0m\u001b[1;33m)\u001b[0m\u001b[1;33m\u001b[0m\u001b[1;33m\u001b[0m\u001b[0m\n",
      "\u001b[1;32mc:\\Users\\Jaehyun\\anaconda3\\envs\\cmblu\\lib\\site-packages\\pandas\\core\\generic.py\u001b[0m in \u001b[0;36mto_csv\u001b[1;34m(self, path_or_buf, sep, na_rep, float_format, columns, header, index, index_label, mode, encoding, compression, quoting, quotechar, lineterminator, chunksize, date_format, doublequote, escapechar, decimal, errors, storage_options)\u001b[0m\n\u001b[0;32m   3718\u001b[0m         )\n\u001b[0;32m   3719\u001b[0m \u001b[1;33m\u001b[0m\u001b[0m\n\u001b[1;32m-> 3720\u001b[1;33m         return DataFrameRenderer(formatter).to_csv(\n\u001b[0m\u001b[0;32m   3721\u001b[0m             \u001b[0mpath_or_buf\u001b[0m\u001b[1;33m,\u001b[0m\u001b[1;33m\u001b[0m\u001b[1;33m\u001b[0m\u001b[0m\n\u001b[0;32m   3722\u001b[0m             \u001b[0mlineterminator\u001b[0m\u001b[1;33m=\u001b[0m\u001b[0mlineterminator\u001b[0m\u001b[1;33m,\u001b[0m\u001b[1;33m\u001b[0m\u001b[1;33m\u001b[0m\u001b[0m\n",
      "\u001b[1;32mc:\\Users\\Jaehyun\\anaconda3\\envs\\cmblu\\lib\\site-packages\\pandas\\util\\_decorators.py\u001b[0m in \u001b[0;36mwrapper\u001b[1;34m(*args, **kwargs)\u001b[0m\n\u001b[0;32m    209\u001b[0m                 \u001b[1;32melse\u001b[0m\u001b[1;33m:\u001b[0m\u001b[1;33m\u001b[0m\u001b[1;33m\u001b[0m\u001b[0m\n\u001b[0;32m    210\u001b[0m                     \u001b[0mkwargs\u001b[0m\u001b[1;33m[\u001b[0m\u001b[0mnew_arg_name\u001b[0m\u001b[1;33m]\u001b[0m \u001b[1;33m=\u001b[0m \u001b[0mnew_arg_value\u001b[0m\u001b[1;33m\u001b[0m\u001b[1;33m\u001b[0m\u001b[0m\n\u001b[1;32m--> 211\u001b[1;33m             \u001b[1;32mreturn\u001b[0m \u001b[0mfunc\u001b[0m\u001b[1;33m(\u001b[0m\u001b[1;33m*\u001b[0m\u001b[0margs\u001b[0m\u001b[1;33m,\u001b[0m \u001b[1;33m**\u001b[0m\u001b[0mkwargs\u001b[0m\u001b[1;33m)\u001b[0m\u001b[1;33m\u001b[0m\u001b[1;33m\u001b[0m\u001b[0m\n\u001b[0m\u001b[0;32m    212\u001b[0m \u001b[1;33m\u001b[0m\u001b[0m\n\u001b[0;32m    213\u001b[0m         \u001b[1;32mreturn\u001b[0m \u001b[0mcast\u001b[0m\u001b[1;33m(\u001b[0m\u001b[0mF\u001b[0m\u001b[1;33m,\u001b[0m \u001b[0mwrapper\u001b[0m\u001b[1;33m)\u001b[0m\u001b[1;33m\u001b[0m\u001b[1;33m\u001b[0m\u001b[0m\n",
      "\u001b[1;32mc:\\Users\\Jaehyun\\anaconda3\\envs\\cmblu\\lib\\site-packages\\pandas\\io\\formats\\format.py\u001b[0m in \u001b[0;36mto_csv\u001b[1;34m(self, path_or_buf, encoding, sep, columns, index_label, mode, compression, quoting, quotechar, lineterminator, chunksize, date_format, doublequote, escapechar, errors, storage_options)\u001b[0m\n\u001b[0;32m   1187\u001b[0m             \u001b[0mformatter\u001b[0m\u001b[1;33m=\u001b[0m\u001b[0mself\u001b[0m\u001b[1;33m.\u001b[0m\u001b[0mfmt\u001b[0m\u001b[1;33m,\u001b[0m\u001b[1;33m\u001b[0m\u001b[1;33m\u001b[0m\u001b[0m\n\u001b[0;32m   1188\u001b[0m         )\n\u001b[1;32m-> 1189\u001b[1;33m         \u001b[0mcsv_formatter\u001b[0m\u001b[1;33m.\u001b[0m\u001b[0msave\u001b[0m\u001b[1;33m(\u001b[0m\u001b[1;33m)\u001b[0m\u001b[1;33m\u001b[0m\u001b[1;33m\u001b[0m\u001b[0m\n\u001b[0m\u001b[0;32m   1190\u001b[0m \u001b[1;33m\u001b[0m\u001b[0m\n\u001b[0;32m   1191\u001b[0m         \u001b[1;32mif\u001b[0m \u001b[0mcreated_buffer\u001b[0m\u001b[1;33m:\u001b[0m\u001b[1;33m\u001b[0m\u001b[1;33m\u001b[0m\u001b[0m\n",
      "\u001b[1;32mc:\\Users\\Jaehyun\\anaconda3\\envs\\cmblu\\lib\\site-packages\\pandas\\io\\formats\\csvs.py\u001b[0m in \u001b[0;36msave\u001b[1;34m(self)\u001b[0m\n\u001b[0;32m    239\u001b[0m         \"\"\"\n\u001b[0;32m    240\u001b[0m         \u001b[1;31m# apply compression and byte/text conversion\u001b[0m\u001b[1;33m\u001b[0m\u001b[1;33m\u001b[0m\u001b[0m\n\u001b[1;32m--> 241\u001b[1;33m         with get_handle(\n\u001b[0m\u001b[0;32m    242\u001b[0m             \u001b[0mself\u001b[0m\u001b[1;33m.\u001b[0m\u001b[0mfilepath_or_buffer\u001b[0m\u001b[1;33m,\u001b[0m\u001b[1;33m\u001b[0m\u001b[1;33m\u001b[0m\u001b[0m\n\u001b[0;32m    243\u001b[0m             \u001b[0mself\u001b[0m\u001b[1;33m.\u001b[0m\u001b[0mmode\u001b[0m\u001b[1;33m,\u001b[0m\u001b[1;33m\u001b[0m\u001b[1;33m\u001b[0m\u001b[0m\n",
      "\u001b[1;32mc:\\Users\\Jaehyun\\anaconda3\\envs\\cmblu\\lib\\site-packages\\pandas\\io\\common.py\u001b[0m in \u001b[0;36mget_handle\u001b[1;34m(path_or_buf, mode, encoding, compression, memory_map, is_text, errors, storage_options)\u001b[0m\n\u001b[0;32m    732\u001b[0m     \u001b[1;31m# Only for write methods\u001b[0m\u001b[1;33m\u001b[0m\u001b[1;33m\u001b[0m\u001b[0m\n\u001b[0;32m    733\u001b[0m     \u001b[1;32mif\u001b[0m \u001b[1;34m\"r\"\u001b[0m \u001b[1;32mnot\u001b[0m \u001b[1;32min\u001b[0m \u001b[0mmode\u001b[0m \u001b[1;32mand\u001b[0m \u001b[0mis_path\u001b[0m\u001b[1;33m:\u001b[0m\u001b[1;33m\u001b[0m\u001b[1;33m\u001b[0m\u001b[0m\n\u001b[1;32m--> 734\u001b[1;33m         \u001b[0mcheck_parent_directory\u001b[0m\u001b[1;33m(\u001b[0m\u001b[0mstr\u001b[0m\u001b[1;33m(\u001b[0m\u001b[0mhandle\u001b[0m\u001b[1;33m)\u001b[0m\u001b[1;33m)\u001b[0m\u001b[1;33m\u001b[0m\u001b[1;33m\u001b[0m\u001b[0m\n\u001b[0m\u001b[0;32m    735\u001b[0m \u001b[1;33m\u001b[0m\u001b[0m\n\u001b[0;32m    736\u001b[0m     \u001b[1;32mif\u001b[0m \u001b[0mcompression\u001b[0m\u001b[1;33m:\u001b[0m\u001b[1;33m\u001b[0m\u001b[1;33m\u001b[0m\u001b[0m\n",
      "\u001b[1;32mc:\\Users\\Jaehyun\\anaconda3\\envs\\cmblu\\lib\\site-packages\\pandas\\io\\common.py\u001b[0m in \u001b[0;36mcheck_parent_directory\u001b[1;34m(path)\u001b[0m\n\u001b[0;32m    595\u001b[0m     \u001b[0mparent\u001b[0m \u001b[1;33m=\u001b[0m \u001b[0mPath\u001b[0m\u001b[1;33m(\u001b[0m\u001b[0mpath\u001b[0m\u001b[1;33m)\u001b[0m\u001b[1;33m.\u001b[0m\u001b[0mparent\u001b[0m\u001b[1;33m\u001b[0m\u001b[1;33m\u001b[0m\u001b[0m\n\u001b[0;32m    596\u001b[0m     \u001b[1;32mif\u001b[0m \u001b[1;32mnot\u001b[0m \u001b[0mparent\u001b[0m\u001b[1;33m.\u001b[0m\u001b[0mis_dir\u001b[0m\u001b[1;33m(\u001b[0m\u001b[1;33m)\u001b[0m\u001b[1;33m:\u001b[0m\u001b[1;33m\u001b[0m\u001b[1;33m\u001b[0m\u001b[0m\n\u001b[1;32m--> 597\u001b[1;33m         \u001b[1;32mraise\u001b[0m \u001b[0mOSError\u001b[0m\u001b[1;33m(\u001b[0m\u001b[1;34mrf\"Cannot save file into a non-existent directory: '{parent}'\"\u001b[0m\u001b[1;33m)\u001b[0m\u001b[1;33m\u001b[0m\u001b[1;33m\u001b[0m\u001b[0m\n\u001b[0m\u001b[0;32m    598\u001b[0m \u001b[1;33m\u001b[0m\u001b[0m\n\u001b[0;32m    599\u001b[0m \u001b[1;33m\u001b[0m\u001b[0m\n",
      "\u001b[1;31mOSError\u001b[0m: Cannot save file into a non-existent directory: 'results'"
     ]
    }
   ],
   "source": [
    "# save the DRT recovered with RR\n",
    "gamma_DRT_excel = pd.DataFrame(gamma_DRT)\n",
    "gamma_DRT_excel.to_csv('./results/1ZARC_DRT-RR.csv',index=False)\n",
    "\n",
    "# save the impedance recovered with RR\n",
    "df = pd.DataFrame.from_dict({'Freq': freq_vec, 'Real': np.real(Z_DRT), 'Imag': np.imag(Z_DRT)})\n",
    "df.to_csv('./results/1ZARC_Z-RR.csv')"
   ]
  },
  {
   "cell_type": "markdown",
   "id": "35e3c5c8",
   "metadata": {},
   "source": [
    "### 2. Analysis of multiple EIS spectra"
   ]
  },
  {
   "cell_type": "markdown",
   "id": "acb6b9c2",
   "metadata": {},
   "source": [
    "#### 2.1 Load and analyze many EIS spectra concomitantly"
   ]
  },
  {
   "cell_type": "code",
   "execution_count": null,
   "id": "8eb531be",
   "metadata": {},
   "outputs": [],
   "source": [
    "N_exp = 6 # number of EIS experiments\n",
    "\n",
    "# lists to save the DRTs and impedances\n",
    "R_inf_DRT_list = [0]*N_exp\n",
    "L_0_DRT_list = [0]*N_exp\n",
    "gamma_DRT_list = [0]*N_exp\n",
    "Z_DRT_list = [0]*N_exp\n",
    "Z_exp_list = [0]*N_exp\n",
    "\n",
    "\n",
    "for n in range(N_exp):\n",
    "    # step 1: load the experimental data\n",
    "    df = pd.read_csv('./data/2ZARC'+str(n)+'.csv') # this artificial data was generated using the 2xZARC model\n",
    "    N_freqs = df.shape[0]\n",
    "    freq_vec = np.flip(df['Freq'].values)\n",
    "    Z_exp = np.flip(df['Real'].values + 1j*df['Imag'].values)\n",
    "    Z_exp_list[n] = Z_exp\n",
    "    \n",
    "    # step 2: compute the epsilon parameter\n",
    "    epsilon  = basics.compute_epsilon(freq_vec, coeff, rbf_type, shape_control)\n",
    "\n",
    "    # step 3: compute the differentiation matrices\n",
    "    A_re = basics.assemble_A_re(freq_vec, tau_vec, epsilon, rbf_type)\n",
    "    A_re_R_inf = np.ones((N_freqs, 1))\n",
    "    A_re_L_0 = np.zeros((N_freqs, 1))\n",
    "    A_re = np.hstack(( A_re_R_inf, A_re_L_0, A_re))\n",
    "    A_im = basics.assemble_A_im(freq_vec, tau_vec, epsilon, rbf_type)\n",
    "    A_im_R_inf = np.zeros((N_freqs, 1))\n",
    "    A_im_L_0 = 2*np.pi*freq_vec.reshape((N_freqs, 1))\n",
    "    A_im = np.hstack(( A_im_R_inf, A_im_L_0, A_im))\n",
    "    A = np.vstack((A_re, A_im))\n",
    "    \n",
    "    # step 4: compute the differentiation matrix\n",
    "    M2 = np.zeros((N_taus+2, N_taus+2))\n",
    "    M2[2:,2:] = basics.assemble_M_2(tau_vec, epsilon, rbf_type)\n",
    "    \n",
    "    # step 5: compute the regularization parameter\n",
    "    lambda_value = basics.optimal_lambda(A_re, A_im, np.real(Z_exp), np.imag(Z_exp), M2, -3, 'GCV')\n",
    "    \n",
    "    # step 6: recover the DRT\n",
    "    ### \n",
    "    lb = np.zeros([N_taus+2])\n",
    "    bound_mat = np.eye(lb.shape[0])\n",
    "    H_combined, c_combined = basics.quad_format_combined(A_re, A_im, np.real(Z_exp), np.imag(Z_exp), M2, lambda_value)\n",
    "    \n",
    "    sol = solvers.qp(matrix(H_combined), matrix(c_combined),G,h)\n",
    "    ## deconvolved DRT\n",
    "    x = np.array(sol['x']).flatten()\n",
    "    \n",
    "    R_inf_DRT_list[n], L_0_DRT_list[n] = x[0:2]\n",
    "    gamma_DRT_list[n] = x[2:]\n",
    "    \n",
    "    # step 7: recover the impedance\n",
    "    Z_DRT = A@x\n",
    "    Z_DRT_list[n] = Z_DRT[0:N_freqs] + 1j*Z_DRT[N_freqs:]"
   ]
  },
  {
   "cell_type": "markdown",
   "id": "79415be7",
   "metadata": {},
   "source": [
    "#### 2.2 Nyquist plots"
   ]
  },
  {
   "cell_type": "code",
   "execution_count": null,
   "id": "558f1f12",
   "metadata": {},
   "outputs": [],
   "source": [
    "color_list = ['black', 'blue', 'magenta', 'cyan', 'green', 'yellow']\n",
    "Rct = [r'$R_{\\rm ct}= 5\\Omega$',r'$ R_{\\rm ct} = 15\\Omega$', r'$ R_{\\rm ct} = 25\\Omega$', r'$ R_{\\rm ct} = 35\\Omega$', \\\n",
    "       r'$ R_{\\rm ct} = 45\\Omega$', r'$ R_{\\rm ct} = 55\\Omega$']\n",
    "# Nyquist plots of the experimental and regressed impedances\n",
    "for n in range(N_exp):\n",
    "    plt.plot(np.real(Z_exp_list[n]), -np.imag(Z_exp_list[n]), 'o', markersize=7, color='red')\n",
    "    plt.plot(np.real(Z_exp_list[n]), -np.imag(Z_exp_list[n]), linewidth=4, color=color_list[n], label= Rct[n])\n",
    "plt.legend(frameon=False, fontsize = 15, loc='upper right')\n",
    "plt.axis('scaled')\n",
    "plt.xticks(np.arange(0, 300.1, 50))\n",
    "plt.yticks(np.arange(-20, 200.1, 20))\n",
    "plt.gca().set_aspect('equal', adjustable='box')\n",
    "plt.xlabel(r'$Z_{\\rm re}/\\Omega$', fontsize = 20)\n",
    "plt.ylabel(r'$-Z_{\\rm im}/\\Omega$', fontsize = 20)\n",
    "fig = plt.gcf()\n",
    "fig.set_size_inches(6.472, 4)\n",
    "plt.show()"
   ]
  },
  {
   "cell_type": "markdown",
   "id": "22ff3cca",
   "metadata": {},
   "source": [
    "#### 2.3 DRT plots"
   ]
  },
  {
   "cell_type": "code",
   "execution_count": null,
   "id": "607f6184",
   "metadata": {},
   "outputs": [],
   "source": [
    "# Plots of the recovered DRTs\n",
    "for n in range(N_exp):\n",
    "    plt.semilogx(tau_vec, gamma_DRT_list[n], linewidth=4, color=color_list[n], label=Rct[n])\n",
    "plt.legend(frameon=False, fontsize = 15)\n",
    "plt.axis([1E-6, 1E2, 0, 100])\n",
    "plt.xlabel(r'$\\tau/\\rm s$', fontsize = 20)\n",
    "plt.ylabel(r'$\\gamma/\\Omega$', fontsize = 20)\n",
    "fig.set_size_inches(6.472, 4)\n",
    "#plt.savefig('2ZARC_DRT-plots.svg', dpi=300, bbox_inches='tight') # save the picture\n",
    "#plt.savefig('2ZARC_DRT-plots.pdf', dpi=300, bbox_inches='tight')\n",
    "plt.show()"
   ]
  },
  {
   "cell_type": "markdown",
   "id": "192ad129",
   "metadata": {},
   "source": [
    "#### 2.4 Contour plot of the recovered DRTs"
   ]
  },
  {
   "cell_type": "code",
   "execution_count": null,
   "id": "8960c8d1",
   "metadata": {},
   "outputs": [],
   "source": [
    "# Assuming these variables are defined somewhere in your code\n",
    "N_exp = 6  # Number of experimental conditions\n",
    "\n",
    "# Custom ticks for the experimental conditions\n",
    "custom_ticks = [5, 15, 25, 35, 45, 55]\n",
    "\n",
    "# Generate the necessary matrices for contour plotting\n",
    "T_range = np.arange(N_exp)  # Experimental condition that varies between one EIS measurement to another\n",
    "temp_vec = np.array(custom_ticks, dtype=float)  # Use custom ticks as the temperature vector\n",
    "tau_mat, temp_mat = np.meshgrid(tau_vec, temp_vec)\n",
    "gamma_norm_global_mat = np.zeros((len(custom_ticks), len(tau_vec)))\n",
    "\n",
    "for index, temp in enumerate(T_range):\n",
    "    gamma_norm_global_mat[index, :] = gamma_DRT_list[index]\n",
    "\n",
    "fig = plt.figure(figsize=(6.472, 4)) \n",
    "gs = gridspec.GridSpec(1, 1) \n",
    "plt.subplots_adjust(left=None, bottom=None, right=None, top=None, wspace=0, hspace=0.5)\n",
    "ax = plt.subplot(gs[0, 0])\n",
    "cs = ax.contourf(tau_mat, temp_mat, gamma_norm_global_mat, cmap=plt.cm.plasma)\n",
    "fig.colorbar(cs, label=r'$\\gamma/\\Omega$')\n",
    "\n",
    "# Set custom ticks for the y-axis (experimental conditions)\n",
    "ax.set_yticks(custom_ticks)\n",
    "\n",
    "ax.set_ylabel(r'$R_{\\rm ct}/\\Omega$', fontsize=20)\n",
    "ax.set_xlabel(r'$\\tau/s$', fontsize=20)\n",
    "ax.set_xscale('log')\n",
    "fig = plt.gcf()\n",
    "fig.set_size_inches(6.472, 4)\n",
    "\n",
    "plt.savefig('figs/2ZARC_contour-plot.svg', dpi=300, bbox_inches='tight')  # save the picture\n",
    "plt.savefig('figs/2ZARC_contour-plot.pdf', dpi=300, bbox_inches='tight')\n",
    "plt.show()"
   ]
  },
  {
   "cell_type": "markdown",
   "id": "ee581f3b",
   "metadata": {},
   "source": [
    "#### 2.5 Save the recovered DRTs and impedances"
   ]
  },
  {
   "cell_type": "code",
   "execution_count": null,
   "id": "744497bd",
   "metadata": {},
   "outputs": [],
   "source": [
    "for n in range(N_exp):\n",
    "    \n",
    "    # save the DRT recovered with RR\n",
    "    gamma_DRT_excel = pd.DataFrame(gamma_DRT_list[n])\n",
    "    gamma_DRT_excel.to_csv('./results/2ZARC_DRT-RR_'+str(n)+'.csv',index=False)\n",
    "\n",
    "    # save the impedance recovered with RR\n",
    "    df = pd.DataFrame.from_dict({'Freq': freq_vec, 'Real': np.real(Z_DRT_list[n]), 'Imag': np.imag(Z_DRT_list[n])})\n",
    "    df.to_csv('./results/2ZARC_Z-RR_'+str(n)+'.csv')"
   ]
  },
  {
   "cell_type": "markdown",
   "id": "6b2ea44a",
   "metadata": {},
   "source": [
    "#### 2.6 Import the recovered DRTs and impedances"
   ]
  },
  {
   "cell_type": "code",
   "execution_count": null,
   "id": "7ad5ed84",
   "metadata": {},
   "outputs": [],
   "source": [
    "gamma_DRT_list = [0]*N_exp\n",
    "Z_DRT_list = [0]*N_exp\n",
    "\n",
    "for n in range(N_exp):\n",
    "    \n",
    "    # import the recovered DRTs\n",
    "    file = open('./results/2ZARC_DRT-RR_'+str(n)+'.csv')\n",
    "    gamma_DRT_list[n] = loadtxt(file, delimiter = \",\")[1:] # because there's a 0 in the first position\n",
    "\n",
    "    # import the recovered impedances\n",
    "    df = pd.read_csv('./results/2ZARC_Z-RR_'+str(n)+'.csv') # this artificial data was generated using the 2xZARC model\n",
    "    Z_DRT = np.flip(df['Real'].values + 1j*df['Imag'].values)\n",
    "    Z_DRT_list[n] = Z_exp"
   ]
  },
  {
   "cell_type": "code",
   "execution_count": null,
   "id": "c3a1dd92",
   "metadata": {},
   "outputs": [],
   "source": []
  }
 ],
 "metadata": {
  "kernelspec": {
   "display_name": "cmblu",
   "language": "python",
   "name": "python3"
  },
  "language_info": {
   "codemirror_mode": {
    "name": "ipython",
    "version": 3
   },
   "file_extension": ".py",
   "mimetype": "text/x-python",
   "name": "python",
   "nbconvert_exporter": "python",
   "pygments_lexer": "ipython3",
   "version": "3.10.9"
  }
 },
 "nbformat": 4,
 "nbformat_minor": 5
}
